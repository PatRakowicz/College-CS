{
 "cells": [
  {
   "cell_type": "markdown",
   "id": "f197baed",
   "metadata": {},
   "source": [
    "# import modules"
   ]
  },
  {
   "cell_type": "code",
   "execution_count": 2,
   "id": "35b6ad00",
   "metadata": {
    "ExecuteTime": {
     "start_time": "2023-04-13T14:24:30.048019Z",
     "end_time": "2023-04-13T14:24:30.066968Z"
    }
   },
   "outputs": [],
   "source": [
    "import pandas as pd\n",
    "import numpy as np\n",
    "import matplotlib.pyplot as plt\n",
    "from keras.utils import np_utils\n",
    "from keras.models import Sequential\n",
    "from keras.layers import Dense, Flatten, Dropout, Conv2D, MaxPooling2D, BatchNormalization\n",
    "from sklearn.model_selection import train_test_split\n",
    "from sklearn.metrics import classification_report, confusion_matrix"
   ]
  },
  {
   "cell_type": "markdown",
   "id": "1105ae8f",
   "metadata": {},
   "source": [
    "# helper functions (if necessary)"
   ]
  },
  {
   "cell_type": "code",
   "execution_count": 2,
   "id": "87d644aa",
   "metadata": {},
   "outputs": [],
   "source": [
    "#python code..."
   ]
  },
  {
   "cell_type": "markdown",
   "id": "60db026d",
   "metadata": {},
   "source": [
    "# read in training data"
   ]
  },
  {
   "cell_type": "code",
   "execution_count": 3,
   "id": "6e993057",
   "metadata": {
    "ExecuteTime": {
     "start_time": "2023-04-13T14:27:00.652244Z",
     "end_time": "2023-04-13T14:27:00.946457Z"
    }
   },
   "outputs": [
    {
     "name": "stdout",
     "output_type": "stream",
     "text": [
      "      pixel_0001  pixel_0002  pixel_0003  pixel_0004  pixel_0005  pixel_0006  \\\n",
      "0        0.47226     0.48085     0.48761     0.49535     0.50379     0.51189   \n",
      "1        0.32470     0.35060     0.37265     0.39171     0.40310     0.41359   \n",
      "2        0.34084     0.36826     0.39206     0.40993     0.42216     0.43400   \n",
      "3        0.37349     0.37682     0.38627     0.39756     0.40275     0.41260   \n",
      "4        0.39495     0.40183     0.41210     0.42512     0.43305     0.44263   \n",
      "...          ...         ...         ...         ...         ...         ...   \n",
      "1745     0.36242     0.36768     0.37407     0.38544     0.39226     0.40214   \n",
      "1746     0.34581     0.37402     0.39638     0.41495     0.42730     0.43788   \n",
      "1747     0.48426     0.49024     0.49681     0.50646     0.51518     0.52343   \n",
      "1748     0.46236     0.46905     0.47576     0.48341     0.49156     0.49815   \n",
      "1749     0.36590     0.37389     0.38272     0.39427     0.40384     0.41482   \n",
      "\n",
      "      pixel_0007  pixel_0008  pixel_0009  pixel_0010  ...  pixel_1016  \\\n",
      "0        0.51374     0.51858     0.52246     0.52773  ...     0.52583   \n",
      "1        0.42013     0.42682     0.43098     0.43423  ...     0.37140   \n",
      "2        0.44441     0.45021     0.45745     0.46296  ...     0.40582   \n",
      "3        0.41834     0.42355     0.42944     0.43292  ...     0.45214   \n",
      "4        0.44850     0.45494     0.46098     0.46715  ...     0.43374   \n",
      "...          ...         ...         ...         ...  ...         ...   \n",
      "1745     0.40653     0.41071     0.41214     0.40510  ...     0.43417   \n",
      "1746     0.44395     0.45037     0.45491     0.45840  ...     0.40801   \n",
      "1747     0.52473     0.52844     0.53210     0.53620  ...     0.48433   \n",
      "1748     0.50033     0.50398     0.50781     0.51276  ...     0.51091   \n",
      "1749     0.42040     0.42581     0.43130     0.43908  ...     0.44552   \n",
      "\n",
      "      pixel_1017  pixel_1018  pixel_1019  pixel_1020  pixel_1021  pixel_1022  \\\n",
      "0        0.52262     0.52134     0.51608     0.50846     0.50826     0.50441   \n",
      "1        0.37241     0.36999     0.36075     0.34885     0.33530     0.32400   \n",
      "2        0.39317     0.38049     0.36373     0.34419     0.32043     0.29228   \n",
      "3        0.44619     0.43966     0.43460     0.42637     0.41909     0.41603   \n",
      "4        0.43612     0.43810     0.43753     0.42952     0.42225     0.41868   \n",
      "...          ...         ...         ...         ...         ...         ...   \n",
      "1745     0.42795     0.42066     0.41440     0.40682     0.40091     0.39848   \n",
      "1746     0.39915     0.39089     0.37974     0.36785     0.35360     0.34232   \n",
      "1747     0.48070     0.47776     0.46901     0.46044     0.45578     0.44796   \n",
      "1748     0.50821     0.50704     0.50137     0.49511     0.49426     0.49013   \n",
      "1749     0.44113     0.43736     0.42844     0.41855     0.41225     0.40530   \n",
      "\n",
      "      pixel_1023  pixel_1024  class  \n",
      "0        0.50048     0.49751    1.0  \n",
      "1        0.30603     0.28628    1.0  \n",
      "2        0.25246     0.21685    2.0  \n",
      "3        0.41125     0.40062    1.0  \n",
      "4        0.41343     0.40364    1.0  \n",
      "...          ...         ...    ...  \n",
      "1745     0.39466     0.38613    1.0  \n",
      "1746     0.32525     0.30594    2.0  \n",
      "1747     0.43832     0.42853    2.0  \n",
      "1748     0.48481     0.48075    0.0  \n",
      "1749     0.39888     0.39465    1.0  \n",
      "\n",
      "[1750 rows x 1025 columns]\n"
     ]
    }
   ],
   "source": [
    "train_df = pd.read_csv(\"train.csv\")\n",
    "print(train_df)"
   ]
  },
  {
   "cell_type": "markdown",
   "id": "7c6485b7",
   "metadata": {},
   "source": [
    "# visualize sampling of training data"
   ]
  },
  {
   "cell_type": "code",
   "execution_count": 4,
   "id": "2cf64ae2",
   "metadata": {
    "ExecuteTime": {
     "start_time": "2023-04-13T14:27:04.569768Z",
     "end_time": "2023-04-13T14:27:05.100347Z"
    }
   },
   "outputs": [
    {
     "data": {
      "text/plain": "<Figure size 1000x200 with 3 Axes>",
      "image/png": "[encoded data removed]"
     },
     "metadata": {},
     "output_type": "display_data"
    }
   ],
   "source": [
    "unique_classes = np.unique(train_df[\"class\"].values)\n",
    "fig, axes = plt.subplots(1, len(unique_classes), figsize=(10, 2))\n",
    "\n",
    "for i, gesture_class in enumerate(unique_classes):\n",
    "    sample = train_df[train_df[\"class\"] == gesture_class].sample(1)\n",
    "    img_data = sample.drop(\"class\", axis=1).to_numpy().reshape(32, 32)\n",
    "    axes[i].imshow(img_data, cmap=\"gray\")\n",
    "    axes[i].set_title(f\"Class {gesture_class}\")\n",
    "    axes[i].axis(\"off\")\n",
    "plt.show()"
   ]
  },
  {
   "cell_type": "markdown",
   "id": "00846994",
   "metadata": {},
   "source": [
    "# process training data "
   ]
  },
  {
   "cell_type": "code",
   "execution_count": 5,
   "id": "542c6f58",
   "metadata": {
    "ExecuteTime": {
     "start_time": "2023-04-13T14:27:11.908142Z",
     "end_time": "2023-04-13T14:27:11.971970Z"
    }
   },
   "outputs": [],
   "source": [
    "X_train = train_df.drop(\"class\", axis=1).to_numpy().reshape(-1, 32, 32, 1) / 255.0\n",
    "\n",
    "y_train = np_utils.to_categorical(train_df[\"class\"].values)\n",
    "\n",
    "X_train, X_val, y_train, y_val = train_test_split(X_train, y_train, test_size=0.2, random_state=42)"
   ]
  },
  {
   "cell_type": "markdown",
   "id": "fa7945ff",
   "metadata": {},
   "source": [
    "# experiment with training classification models"
   ]
  },
  {
   "cell_type": "code",
   "execution_count": 20,
   "id": "19866064",
   "metadata": {
    "ExecuteTime": {
     "start_time": "2023-04-13T14:49:15.155775Z",
     "end_time": "2023-04-13T14:49:36.833801Z"
    }
   },
   "outputs": [
    {
     "name": "stdout",
     "output_type": "stream",
     "text": [
      "Epoch 1/10\n",
      "35/35 [==============================] - 2s 19ms/step - loss: 1.1006 - accuracy: 0.3375 - val_loss: 1.0962 - val_accuracy: 0.3893\n",
      "Epoch 2/10\n",
      "35/35 [==============================] - 1s 14ms/step - loss: 1.0987 - accuracy: 0.3438 - val_loss: 1.0968 - val_accuracy: 0.3893\n",
      "Epoch 3/10\n",
      "35/35 [==============================] - 1s 15ms/step - loss: 1.0985 - accuracy: 0.3464 - val_loss: 1.0966 - val_accuracy: 0.3893\n",
      "Epoch 4/10\n",
      "35/35 [==============================] - 1s 14ms/step - loss: 1.0988 - accuracy: 0.3429 - val_loss: 1.0973 - val_accuracy: 0.3893\n",
      "Epoch 5/10\n",
      "35/35 [==============================] - 1s 16ms/step - loss: 1.0991 - accuracy: 0.3223 - val_loss: 1.0981 - val_accuracy: 0.3893\n",
      "Epoch 6/10\n",
      "35/35 [==============================] - 1s 17ms/step - loss: 1.0987 - accuracy: 0.3348 - val_loss: 1.0973 - val_accuracy: 0.3893\n",
      "Epoch 7/10\n",
      "35/35 [==============================] - 1s 15ms/step - loss: 1.0988 - accuracy: 0.3464 - val_loss: 1.0974 - val_accuracy: 0.3893\n",
      "Epoch 8/10\n",
      "35/35 [==============================] - 1s 15ms/step - loss: 1.0985 - accuracy: 0.3402 - val_loss: 1.0974 - val_accuracy: 0.3893\n",
      "Epoch 9/10\n",
      "35/35 [==============================] - 0s 14ms/step - loss: 1.0984 - accuracy: 0.3375 - val_loss: 1.0972 - val_accuracy: 0.3893\n",
      "Epoch 10/10\n",
      "35/35 [==============================] - 1s 14ms/step - loss: 1.0985 - accuracy: 0.3420 - val_loss: 1.0972 - val_accuracy: 0.3893\n",
      "\n",
      "Model 5 - Training Accuracy: 0.3420\n",
      "Model 5 - Validation Accuracy: 0.3893\n",
      "\n",
      "Epoch 1/10\n",
      "35/35 [==============================] - 2s 22ms/step - loss: 1.0994 - accuracy: 0.3045 - val_loss: 1.0977 - val_accuracy: 0.3893\n",
      "Epoch 2/10\n",
      "35/35 [==============================] - 1s 16ms/step - loss: 1.0989 - accuracy: 0.3446 - val_loss: 1.0973 - val_accuracy: 0.3893\n",
      "Epoch 3/10\n",
      "35/35 [==============================] - 1s 15ms/step - loss: 1.0990 - accuracy: 0.3330 - val_loss: 1.0976 - val_accuracy: 0.3893\n",
      "Epoch 4/10\n",
      "35/35 [==============================] - 1s 15ms/step - loss: 1.0988 - accuracy: 0.3321 - val_loss: 1.0972 - val_accuracy: 0.3893\n",
      "Epoch 5/10\n",
      "35/35 [==============================] - 1s 15ms/step - loss: 1.0989 - accuracy: 0.3464 - val_loss: 1.0978 - val_accuracy: 0.3893\n",
      "Epoch 6/10\n",
      "35/35 [==============================] - 1s 15ms/step - loss: 1.0986 - accuracy: 0.3446 - val_loss: 1.0967 - val_accuracy: 0.3893\n",
      "Epoch 7/10\n",
      "35/35 [==============================] - 1s 15ms/step - loss: 1.0985 - accuracy: 0.3473 - val_loss: 1.0972 - val_accuracy: 0.3893\n",
      "Epoch 8/10\n",
      "35/35 [==============================] - 1s 15ms/step - loss: 1.0984 - accuracy: 0.3446 - val_loss: 1.0969 - val_accuracy: 0.3893\n",
      "Epoch 9/10\n",
      "35/35 [==============================] - 1s 16ms/step - loss: 1.0986 - accuracy: 0.3438 - val_loss: 1.0970 - val_accuracy: 0.3893\n",
      "Epoch 10/10\n",
      "35/35 [==============================] - 1s 15ms/step - loss: 1.0981 - accuracy: 0.3455 - val_loss: 1.0965 - val_accuracy: 0.3893\n",
      "\n",
      "Model 5 - Training Accuracy: 0.3455\n",
      "Model 5 - Validation Accuracy: 0.3893\n",
      "\n",
      "Epoch 1/10\n",
      "35/35 [==============================] - 2s 26ms/step - loss: 0.5617 - accuracy: 0.7643 - val_loss: 1.1458 - val_accuracy: 0.3893\n",
      "Epoch 2/10\n",
      "35/35 [==============================] - 1s 22ms/step - loss: 0.2137 - accuracy: 0.9339 - val_loss: 1.3626 - val_accuracy: 0.3143\n",
      "Epoch 3/10\n",
      "35/35 [==============================] - 1s 22ms/step - loss: 0.1156 - accuracy: 0.9661 - val_loss: 1.1707 - val_accuracy: 0.3893\n",
      "Epoch 4/10\n",
      "35/35 [==============================] - 1s 22ms/step - loss: 0.0932 - accuracy: 0.9750 - val_loss: 3.2259 - val_accuracy: 0.3143\n",
      "Epoch 5/10\n",
      "35/35 [==============================] - 1s 22ms/step - loss: 0.0610 - accuracy: 0.9795 - val_loss: 1.5603 - val_accuracy: 0.3143\n",
      "Epoch 6/10\n",
      "35/35 [==============================] - 1s 23ms/step - loss: 0.0509 - accuracy: 0.9866 - val_loss: 2.5736 - val_accuracy: 0.2964\n",
      "Epoch 7/10\n",
      "35/35 [==============================] - 1s 22ms/step - loss: 0.0468 - accuracy: 0.9866 - val_loss: 9.4663 - val_accuracy: 0.3143\n",
      "Epoch 8/10\n",
      "35/35 [==============================] - 1s 22ms/step - loss: 0.0274 - accuracy: 0.9902 - val_loss: 7.6202 - val_accuracy: 0.3143\n",
      "Epoch 9/10\n",
      "35/35 [==============================] - 1s 22ms/step - loss: 0.0260 - accuracy: 0.9929 - val_loss: 12.4020 - val_accuracy: 0.3143\n",
      "Epoch 10/10\n",
      "35/35 [==============================] - 1s 22ms/step - loss: 0.0484 - accuracy: 0.9839 - val_loss: 7.2179 - val_accuracy: 0.3893\n",
      "\n",
      "Model 5 - Training Accuracy: 0.9839\n",
      "Model 5 - Validation Accuracy: 0.3893\n",
      "\n"
     ]
    }
   ],
   "source": [
    "model1 = Sequential()\n",
    "model1.add(Conv2D(32, kernel_size=(3, 3), activation='relu', input_shape=(32, 32, 1)))\n",
    "model1.add(MaxPooling2D(pool_size=(2, 2)))\n",
    "model1.add(Conv2D(64, kernel_size=(3, 3), activation='relu'))\n",
    "model1.add(MaxPooling2D(pool_size=(2, 2)))\n",
    "model1.add(Flatten())\n",
    "model1.add(Dense(128, activation='relu'))\n",
    "model1.add(Dropout(0.5))\n",
    "model1.add(Dense(len(unique_classes), activation='softmax'))\n",
    "\n",
    "model2 = Sequential()\n",
    "model2.add(Conv2D(32, kernel_size=(3, 3), activation='relu', input_shape=(32, 32, 1)))\n",
    "model2.add(MaxPooling2D(pool_size=(2, 2)))\n",
    "model2.add(Conv2D(64, kernel_size=(3, 3), activation='relu'))\n",
    "model2.add(MaxPooling2D(pool_size=(2, 2)))\n",
    "model2.add(Conv2D(128, kernel_size=(3, 3), activation='relu'))\n",
    "model2.add(MaxPooling2D(pool_size=(2, 2)))\n",
    "model2.add(Flatten())\n",
    "model2.add(Dense(256, activation='relu'))\n",
    "model2.add(Dropout(0.5))\n",
    "model2.add(Dense(len(unique_classes), activation='softmax'))\n",
    "\n",
    "model3 = Sequential()\n",
    "model3.add(Conv2D(32, kernel_size=(3, 3), activation='tanh', input_shape=(32, 32, 1)))\n",
    "model3.add(BatchNormalization())\n",
    "model3.add(MaxPooling2D(pool_size=(2, 2)))\n",
    "model3.add(Conv2D(64, kernel_size=(3, 3), activation='tanh'))\n",
    "model3.add(BatchNormalization())\n",
    "model3.add(MaxPooling2D(pool_size=(2, 2)))\n",
    "model3.add(Flatten())\n",
    "model3.add(Dense(128, activation='tanh'))\n",
    "model3.add(Dropout(0.5))\n",
    "model3.add(Dense(len(unique_classes), activation='softmax'))\n",
    "\n",
    "models = [model1, model2, model3]\n",
    "histories = []\n",
    "\n",
    "for model in models:\n",
    "    model_name = f\"Model {i+1}\"\n",
    "    model.compile(optimizer='adam', loss='categorical_crossentropy', metrics=['accuracy'])\n",
    "    history = model.fit(X_train, y_train, epochs=10, batch_size=32, verbose=1, validation_data=(X_val, y_val))\n",
    "    histories.append(history)\n",
    "\n",
    "    print(f\"\\n{model_name} - Training Accuracy: {history.history['accuracy'][-1]:.4f}\")\n",
    "    print(f\"{model_name} - Validation Accuracy: {history.history['val_accuracy'][-1]:.4f}\\n\")"
   ]
  },
  {
   "cell_type": "markdown",
   "id": "3c5fc968",
   "metadata": {},
   "source": [
    "# train \"fresh\" classification model"
   ]
  },
  {
   "cell_type": "code",
   "execution_count": 38,
   "id": "f8a8e8ed",
   "metadata": {
    "ExecuteTime": {
     "start_time": "2023-04-13T15:00:54.205258Z",
     "end_time": "2023-04-13T15:01:00.116448Z"
    }
   },
   "outputs": [
    {
     "name": "stdout",
     "output_type": "stream",
     "text": [
      "Epoch 1/10\n",
      "18/18 [==============================] - 2s 34ms/step - loss: 0.0573 - accuracy: 0.9843 - val_loss: 9.5318 - val_accuracy: 0.3333\n",
      "Epoch 2/10\n",
      "18/18 [==============================] - 0s 24ms/step - loss: 0.0251 - accuracy: 0.9913 - val_loss: 9.4591 - val_accuracy: 0.3333\n",
      "Epoch 3/10\n",
      "18/18 [==============================] - 0s 23ms/step - loss: 0.0121 - accuracy: 0.9983 - val_loss: 11.0413 - val_accuracy: 0.3333\n",
      "Epoch 4/10\n",
      "18/18 [==============================] - 0s 22ms/step - loss: 0.0105 - accuracy: 0.9983 - val_loss: 12.1858 - val_accuracy: 0.3333\n",
      "Epoch 5/10\n",
      "18/18 [==============================] - 0s 22ms/step - loss: 0.0054 - accuracy: 1.0000 - val_loss: 11.0637 - val_accuracy: 0.3333\n",
      "Epoch 6/10\n",
      "18/18 [==============================] - 0s 22ms/step - loss: 0.0037 - accuracy: 1.0000 - val_loss: 10.6475 - val_accuracy: 0.3333\n",
      "Epoch 7/10\n",
      "18/18 [==============================] - 0s 22ms/step - loss: 0.0027 - accuracy: 1.0000 - val_loss: 10.9307 - val_accuracy: 0.3333\n",
      "Epoch 8/10\n",
      "18/18 [==============================] - 0s 23ms/step - loss: 0.0031 - accuracy: 1.0000 - val_loss: 11.5148 - val_accuracy: 0.3333\n",
      "Epoch 9/10\n",
      "18/18 [==============================] - 0s 24ms/step - loss: 0.0031 - accuracy: 1.0000 - val_loss: 11.4272 - val_accuracy: 0.3333\n",
      "Epoch 10/10\n",
      "18/18 [==============================] - 0s 23ms/step - loss: 0.0019 - accuracy: 1.0000 - val_loss: 12.6989 - val_accuracy: 0.3333\n"
     ]
    },
    {
     "data": {
      "text/plain": "<keras.callbacks.History at 0x186a9701d00>"
     },
     "execution_count": 38,
     "metadata": {},
     "output_type": "execute_result"
    }
   ],
   "source": [
    "model3.compile(optimizer='adam', loss='categorical_crossentropy', metrics=['accuracy'])\n",
    "\n",
    "X_train, X_val, y_train, y_val = train_test_split(X_train, y_train, test_size=0.2, random_state=42)\n",
    "\n",
    "model3.fit(X_train, y_train, epochs=10, batch_size=32, verbose=1, validation_data=(X_val, y_val))"
   ]
  },
  {
   "cell_type": "markdown",
   "id": "60f5d1b9",
   "metadata": {},
   "source": [
    "# read in test data"
   ]
  },
  {
   "cell_type": "code",
   "execution_count": 39,
   "id": "63740bf8",
   "metadata": {
    "ExecuteTime": {
     "start_time": "2023-04-13T15:01:05.687550Z",
     "end_time": "2023-04-13T15:01:05.789278Z"
    }
   },
   "outputs": [
    {
     "name": "stdout",
     "output_type": "stream",
     "text": [
      "     pixel_0001  pixel_0002  pixel_0003  pixel_0004  pixel_0005  pixel_0006  \\\n",
      "0       0.33171     0.35593     0.37523     0.39313     0.40558     0.41821   \n",
      "1       0.37730     0.38290     0.39059     0.40225     0.40914     0.42137   \n",
      "2       0.38589     0.39247     0.40290     0.41494     0.42391     0.43380   \n",
      "3       0.38795     0.39150     0.39761     0.41051     0.41948     0.42885   \n",
      "4       0.39611     0.39904     0.40116     0.40705     0.41105     0.41808   \n",
      "..          ...         ...         ...         ...         ...         ...   \n",
      "433     0.39040     0.39370     0.40026     0.41143     0.41842     0.42685   \n",
      "434     0.45206     0.45821     0.46649     0.47841     0.48835     0.49878   \n",
      "435     0.39253     0.39364     0.40122     0.41295     0.42002     0.42926   \n",
      "436     0.45785     0.46063     0.45857     0.45420     0.46073     0.47128   \n",
      "437     0.37256     0.37752     0.38363     0.39538     0.40344     0.41139   \n",
      "\n",
      "     pixel_0007  pixel_0008  pixel_0009  pixel_0010  ...  pixel_1015  \\\n",
      "0       0.42957     0.43704     0.44224     0.44541  ...     0.40125   \n",
      "1       0.42652     0.43203     0.43688     0.44335  ...     0.46308   \n",
      "2       0.43892     0.44518     0.45098     0.45722  ...     0.37936   \n",
      "3       0.43538     0.44227     0.44823     0.45496  ...     0.42860   \n",
      "4       0.42212     0.42668     0.43161     0.43756  ...     0.45187   \n",
      "..          ...         ...         ...         ...  ...         ...   \n",
      "433     0.43223     0.43695     0.44256     0.45048  ...     0.45593   \n",
      "434     0.50326     0.50816     0.51474     0.52038  ...     0.48121   \n",
      "435     0.43374     0.43785     0.43952     0.44421  ...     0.46173   \n",
      "436     0.47726     0.48187     0.48975     0.50881  ...     0.53231   \n",
      "437     0.41701     0.42244     0.42762     0.43460  ...     0.44758   \n",
      "\n",
      "     pixel_1016  pixel_1017  pixel_1018  pixel_1019  pixel_1020  pixel_1021  \\\n",
      "0       0.39539     0.38849     0.37860     0.36709     0.35604     0.34369   \n",
      "1       0.45950     0.45291     0.44822     0.44325     0.43432     0.42780   \n",
      "2       0.37146     0.35935     0.35669     0.35617     0.35391     0.35100   \n",
      "3       0.42672     0.42210     0.41695     0.40841     0.39851     0.39049   \n",
      "4       0.44765     0.43487     0.40854     0.38292     0.36079     0.35220   \n",
      "..          ...         ...         ...         ...         ...         ...   \n",
      "433     0.45345     0.44774     0.43988     0.43473     0.42647     0.41783   \n",
      "434     0.47468     0.47153     0.47189     0.46947     0.46646     0.46551   \n",
      "435     0.45919     0.45403     0.44603     0.44022     0.43204     0.42485   \n",
      "436     0.53077     0.52697     0.52380     0.51667     0.51006     0.50557   \n",
      "437     0.57479     0.52520     0.45905     0.40396     0.42600     0.43165   \n",
      "\n",
      "     pixel_1022  pixel_1023  pixel_1024  \n",
      "0       0.33109     0.31198     0.29166  \n",
      "1       0.42693     0.42288     0.41395  \n",
      "2       0.34499     0.34025     0.33908  \n",
      "3       0.38848     0.38372     0.37475  \n",
      "4       0.35399     0.35598     0.35442  \n",
      "..          ...         ...         ...  \n",
      "433     0.41557     0.40896     0.39926  \n",
      "434     0.46272     0.45875     0.45269  \n",
      "435     0.42126     0.41708     0.40618  \n",
      "436     0.50014     0.49732     0.49419  \n",
      "437     0.41276     0.41174     0.31323  \n",
      "\n",
      "[438 rows x 1024 columns]\n"
     ]
    }
   ],
   "source": [
    "test_df = pd.read_csv(\"test.csv\")\n",
    "print(test_df)"
   ]
  },
  {
   "cell_type": "markdown",
   "id": "ee499338",
   "metadata": {},
   "source": [
    "# process test data"
   ]
  },
  {
   "cell_type": "code",
   "execution_count": 40,
   "id": "85f2b5b5",
   "metadata": {
    "ExecuteTime": {
     "start_time": "2023-04-13T15:01:07.844781Z",
     "end_time": "2023-04-13T15:01:07.855174Z"
    }
   },
   "outputs": [],
   "source": [
    "X_test = test_df.to_numpy().reshape(-1, 32, 32, 1) / 255.0"
   ]
  },
  {
   "cell_type": "markdown",
   "id": "bf8863fc",
   "metadata": {},
   "source": [
    "# use trained model to predict test data"
   ]
  },
  {
   "cell_type": "code",
   "execution_count": 41,
   "outputs": [
    {
     "name": "stdout",
     "output_type": "stream",
     "text": [
      "14/14 [==============================] - 0s 9ms/step\n"
     ]
    }
   ],
   "source": [
    "y_test_pred = model3.predict(X_test)\n",
    "y_test_pred = np.argmax(y_test_pred, axis=1)"
   ],
   "metadata": {
    "collapsed": false,
    "ExecuteTime": {
     "start_time": "2023-04-13T15:01:09.051553Z",
     "end_time": "2023-04-13T15:01:09.399623Z"
    }
   }
  },
  {
   "cell_type": "markdown",
   "id": "dc6a77ec",
   "metadata": {},
   "source": [
    "# visualize random test samples with prediction"
   ]
  },
  {
   "cell_type": "code",
   "execution_count": 42,
   "id": "79b67457",
   "metadata": {
    "ExecuteTime": {
     "start_time": "2023-04-13T15:01:22.224326Z",
     "end_time": "2023-04-13T15:01:22.444734Z"
    }
   },
   "outputs": [
    {
     "data": {
      "text/plain": "<Figure size 1000x200 with 5 Axes>",
      "image/png": "[encoded data removed]"
     },
     "metadata": {},
     "output_type": "display_data"
    }
   ],
   "source": [
    "num_samples = 5\n",
    "random_samples = np.random.choice(len(X_test), num_samples)\n",
    "\n",
    "fig, axes = plt.subplots(1, num_samples, figsize=(10, 2))\n",
    "\n",
    "for i, sample_idx in enumerate(random_samples):\n",
    "    axes[i].imshow(X_test[sample_idx].reshape(32, 32), cmap=\"gray\")\n",
    "    axes[i].set_title(f\"Pred: {y_test_pred[sample_idx]}\")\n",
    "    axes[i].axis(\"off\")\n",
    "plt.show()"
   ]
  },
  {
   "cell_type": "markdown",
   "id": "0de8da7f",
   "metadata": {},
   "source": [
    "# write predicted test data to \\<YourLastName>.csv"
   ]
  },
  {
   "cell_type": "code",
   "execution_count": 43,
   "id": "7b27dcae",
   "metadata": {
    "ExecuteTime": {
     "start_time": "2023-04-13T15:01:25.454686Z",
     "end_time": "2023-04-13T15:01:25.822701Z"
    }
   },
   "outputs": [],
   "source": [
    "predictions_df = test_df.copy()\n",
    "predictions_df[\"class\"] = y_test_pred\n",
    "predictions_df.to_csv(\"Rakowicz.csv\", index=False)"
   ]
  }
 ],
 "metadata": {
  "kernelspec": {
   "display_name": "Python 3 (ipykernel)",
   "language": "python",
   "name": "python3"
  },
  "language_info": {
   "codemirror_mode": {
    "name": "ipython",
    "version": 3
   },
   "file_extension": ".py",
   "mimetype": "text/x-python",
   "name": "python",
   "nbconvert_exporter": "python",
   "pygments_lexer": "ipython3",
   "version": "3.9.0"
  }
 },
 "nbformat": 4,
 "nbformat_minor": 5
}
