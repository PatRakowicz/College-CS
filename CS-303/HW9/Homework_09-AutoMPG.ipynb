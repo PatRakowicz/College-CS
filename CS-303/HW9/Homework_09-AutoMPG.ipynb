{
 "cells": [
  {
   "cell_type": "markdown",
   "id": "4bdbe9d8",
   "metadata": {},
   "source": [
    "# import modules.."
   ]
  },
  {
   "cell_type": "code",
   "execution_count": 1,
   "id": "4639100c",
   "metadata": {},
   "outputs": [],
   "source": [
    "# python code..."
   ]
  },
  {
   "cell_type": "markdown",
   "id": "15051854",
   "metadata": {},
   "source": [
    "# helper functions (if needed)"
   ]
  },
  {
   "cell_type": "code",
   "execution_count": 2,
   "id": "a72cf94c",
   "metadata": {},
   "outputs": [],
   "source": [
    "# python code...    "
   ]
  },
  {
   "cell_type": "markdown",
   "id": "c3666869",
   "metadata": {},
   "source": [
    "# read in training data"
   ]
  },
  {
   "cell_type": "code",
   "execution_count": 3,
   "id": "92ae4ea5",
   "metadata": {},
   "outputs": [],
   "source": [
    "# python code..."
   ]
  },
  {
   "cell_type": "markdown",
   "id": "49baa3d6",
   "metadata": {},
   "source": [
    "# analyze and visualize training data "
   ]
  },
  {
   "cell_type": "code",
   "execution_count": 4,
   "id": "c763f0da",
   "metadata": {},
   "outputs": [],
   "source": [
    "# python code..."
   ]
  },
  {
   "cell_type": "markdown",
   "id": "610cf491",
   "metadata": {},
   "source": [
    "# experiment with building models to predict training data mpg"
   ]
  },
  {
   "cell_type": "code",
   "execution_count": 5,
   "id": "ecbeb915",
   "metadata": {},
   "outputs": [],
   "source": [
    "# python code..."
   ]
  },
  {
   "cell_type": "markdown",
   "id": "d247f40a",
   "metadata": {},
   "source": [
    "# Question: What features and model parameters worked \"best\"?  Why?"
   ]
  },
  {
   "cell_type": "markdown",
   "id": "e9aa3cb6",
   "metadata": {},
   "source": [
    "answer goes here..."
   ]
  },
  {
   "cell_type": "markdown",
   "id": "a58a734c",
   "metadata": {},
   "source": [
    "# train \"fresh\" mpg prediction model on training data"
   ]
  },
  {
   "cell_type": "code",
   "execution_count": 6,
   "id": "5e91821a",
   "metadata": {},
   "outputs": [],
   "source": [
    "# python code..."
   ]
  },
  {
   "cell_type": "markdown",
   "id": "906707d5",
   "metadata": {},
   "source": [
    "# read in test data"
   ]
  },
  {
   "cell_type": "code",
   "execution_count": 7,
   "id": "001fc7ed",
   "metadata": {},
   "outputs": [],
   "source": [
    "# python code..."
   ]
  },
  {
   "cell_type": "markdown",
   "id": "bf03fe6d",
   "metadata": {},
   "source": [
    "# use trained model to predict mpg of test data"
   ]
  },
  {
   "cell_type": "code",
   "execution_count": 8,
   "id": "d2370bf4",
   "metadata": {},
   "outputs": [],
   "source": [
    "# python code..."
   ]
  },
  {
   "cell_type": "markdown",
   "id": "68921b57",
   "metadata": {},
   "source": [
    "# write test data with predicted mpg to \\<YourLastName>.csv"
   ]
  },
  {
   "cell_type": "code",
   "execution_count": 9,
   "id": "7c44ebdf",
   "metadata": {},
   "outputs": [],
   "source": [
    "# python code..."
   ]
  }
 ],
 "metadata": {
  "kernelspec": {
   "display_name": "Python 3 (ipykernel)",
   "language": "python",
   "name": "python3"
  },
  "language_info": {
   "codemirror_mode": {
    "name": "ipython",
    "version": 3
   },
   "file_extension": ".py",
   "mimetype": "text/x-python",
   "name": "python",
   "nbconvert_exporter": "python",
   "pygments_lexer": "ipython3",
   "version": "3.9.0"
  }
 },
 "nbformat": 4,
 "nbformat_minor": 5
}
