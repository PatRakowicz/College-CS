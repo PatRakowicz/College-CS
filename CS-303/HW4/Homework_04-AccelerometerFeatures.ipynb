{
 "cells": [
  {
   "cell_type": "markdown",
   "id": "3933c193",
   "metadata": {},
   "source": [
    "# import statements"
   ]
  },
  {
   "cell_type": "code",
   "execution_count": 1,
   "id": "776ceb70",
   "metadata": {},
   "outputs": [],
   "source": [
    "#import ..."
   ]
  },
  {
   "cell_type": "markdown",
   "id": "64f27133",
   "metadata": {},
   "source": [
    "# python code to read in data for all participants"
   ]
  },
  {
   "cell_type": "code",
   "execution_count": 2,
   "id": "34429d9b",
   "metadata": {},
   "outputs": [],
   "source": [
    "#python code..."
   ]
  },
  {
   "cell_type": "markdown",
   "id": "4f170516",
   "metadata": {},
   "source": [
    "# python code for helper functions (if necessary)"
   ]
  },
  {
   "cell_type": "code",
   "execution_count": 3,
   "id": "e81eb51f",
   "metadata": {},
   "outputs": [],
   "source": [
    "#python code..."
   ]
  },
  {
   "cell_type": "markdown",
   "id": "443fdefd",
   "metadata": {},
   "source": [
    "# python code to visualize accelerometer data for all participants and activities."
   ]
  },
  {
   "cell_type": "code",
   "execution_count": 8,
   "id": "b139a625",
   "metadata": {},
   "outputs": [],
   "source": [
    "#python code..."
   ]
  },
  {
   "cell_type": "markdown",
   "id": "2cc88fa4",
   "metadata": {},
   "source": [
    "# 1a) python code to visualize pattern(s) of a specific activity."
   ]
  },
  {
   "cell_type": "code",
   "execution_count": 9,
   "id": "f1296837",
   "metadata": {},
   "outputs": [],
   "source": [
    "#python code..."
   ]
  },
  {
   "cell_type": "markdown",
   "id": "32ba847a",
   "metadata": {},
   "source": [
    "# 1b) Description of pattern(s) linked to activity.  Why would this activity produce this specific data pattern?"
   ]
  },
  {
   "cell_type": "markdown",
   "id": "f9fc9863",
   "metadata": {},
   "source": [
    "Answer goes here..."
   ]
  },
  {
   "cell_type": "markdown",
   "id": "8ba6a04a",
   "metadata": {},
   "source": [
    "# 2a) python code to visualize pattern(s) of another specific activity."
   ]
  },
  {
   "cell_type": "code",
   "execution_count": 10,
   "id": "c5c741cb",
   "metadata": {},
   "outputs": [],
   "source": [
    "#python code..."
   ]
  },
  {
   "cell_type": "markdown",
   "id": "d3777125",
   "metadata": {},
   "source": [
    "# 2b) Description of pattern(s) linked to activity.  Why would this activity produce this specific data pattern?"
   ]
  },
  {
   "cell_type": "markdown",
   "id": "5bf97c47",
   "metadata": {},
   "source": [
    "Answer goes here..."
   ]
  },
  {
   "cell_type": "markdown",
   "id": "7e8924fa",
   "metadata": {},
   "source": [
    "# 3a) python code to visualize pattern(s) of yet another specific activity."
   ]
  },
  {
   "cell_type": "code",
   "execution_count": 11,
   "id": "17cb63b6",
   "metadata": {},
   "outputs": [],
   "source": [
    "#python code..."
   ]
  },
  {
   "cell_type": "markdown",
   "id": "072c427d",
   "metadata": {},
   "source": [
    "# 3b) Description of pattern(s) linked to activity.  Why would this activity produce this specific data pattern?"
   ]
  },
  {
   "cell_type": "markdown",
   "id": "a6a4dedb",
   "metadata": {},
   "source": [
    "Answer goes here..."
   ]
  }
 ],
 "metadata": {
  "kernelspec": {
   "display_name": "Python 3 (ipykernel)",
   "language": "python",
   "name": "python3"
  },
  "language_info": {
   "codemirror_mode": {
    "name": "ipython",
    "version": 3
   },
   "file_extension": ".py",
   "mimetype": "text/x-python",
   "name": "python",
   "nbconvert_exporter": "python",
   "pygments_lexer": "ipython3",
   "version": "3.9.7"
  }
 },
 "nbformat": 4,
 "nbformat_minor": 5
}
