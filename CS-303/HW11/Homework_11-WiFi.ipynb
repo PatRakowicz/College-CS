{
 "cells": [
  {
   "cell_type": "markdown",
   "id": "95ee135f",
   "metadata": {},
   "source": [
    "# import modules"
   ]
  },
  {
   "cell_type": "code",
   "execution_count": 1,
   "id": "75395e48",
   "metadata": {},
   "outputs": [],
   "source": [
    "#python code..."
   ]
  },
  {
   "cell_type": "markdown",
   "id": "4a68c1a1",
   "metadata": {},
   "source": [
    "# helper functions (if necessary)"
   ]
  },
  {
   "cell_type": "code",
   "execution_count": 2,
   "id": "c65d5e61",
   "metadata": {},
   "outputs": [],
   "source": [
    "#python code..."
   ]
  },
  {
   "cell_type": "markdown",
   "id": "973c5339",
   "metadata": {},
   "source": [
    "# read in training data"
   ]
  },
  {
   "cell_type": "code",
   "execution_count": 3,
   "id": "de8ab773",
   "metadata": {},
   "outputs": [],
   "source": [
    "#python code..."
   ]
  },
  {
   "cell_type": "markdown",
   "id": "f928cdc8",
   "metadata": {},
   "source": [
    "# analyze and visualize training data"
   ]
  },
  {
   "cell_type": "code",
   "execution_count": 4,
   "id": "20ed33f7",
   "metadata": {},
   "outputs": [],
   "source": [
    "#python code..."
   ]
  },
  {
   "cell_type": "markdown",
   "id": "384461fc",
   "metadata": {},
   "source": [
    "# experiment with classification"
   ]
  },
  {
   "cell_type": "code",
   "execution_count": 5,
   "id": "985e5316",
   "metadata": {},
   "outputs": [],
   "source": [
    "#python code..."
   ]
  },
  {
   "cell_type": "markdown",
   "id": "a0d6e8fd",
   "metadata": {},
   "source": [
    "# Question: Which features and classification model parameters did you select?  Why?"
   ]
  },
  {
   "cell_type": "markdown",
   "id": "757ac8bc",
   "metadata": {},
   "source": [
    "answer goes here.."
   ]
  },
  {
   "cell_type": "markdown",
   "id": "d79acfd2",
   "metadata": {},
   "source": [
    "# train \"fresh\" model on training data"
   ]
  },
  {
   "cell_type": "code",
   "execution_count": 6,
   "id": "1898c2f1",
   "metadata": {},
   "outputs": [],
   "source": [
    "#python code..."
   ]
  },
  {
   "cell_type": "markdown",
   "id": "395832f5",
   "metadata": {},
   "source": [
    "# read in test data"
   ]
  },
  {
   "cell_type": "code",
   "execution_count": 7,
   "id": "dfbfd6af",
   "metadata": {},
   "outputs": [],
   "source": [
    "#python code..."
   ]
  },
  {
   "cell_type": "markdown",
   "id": "f235bec6",
   "metadata": {},
   "source": [
    "# run classification model on test data to make predictions"
   ]
  },
  {
   "cell_type": "code",
   "execution_count": 8,
   "id": "c676da05",
   "metadata": {},
   "outputs": [],
   "source": [
    "#python code..."
   ]
  },
  {
   "cell_type": "markdown",
   "id": "96abad8b",
   "metadata": {},
   "source": [
    "# write test data with predictions to \\<YourLastName>.csv"
   ]
  },
  {
   "cell_type": "code",
   "execution_count": 9,
   "id": "cb934a3f",
   "metadata": {},
   "outputs": [],
   "source": [
    "#python code..."
   ]
  }
 ],
 "metadata": {
  "kernelspec": {
   "display_name": "Python 3 (ipykernel)",
   "language": "python",
   "name": "python3"
  },
  "language_info": {
   "codemirror_mode": {
    "name": "ipython",
    "version": 3
   },
   "file_extension": ".py",
   "mimetype": "text/x-python",
   "name": "python",
   "nbconvert_exporter": "python",
   "pygments_lexer": "ipython3",
   "version": "3.9.0"
  }
 },
 "nbformat": 4,
 "nbformat_minor": 5
}
