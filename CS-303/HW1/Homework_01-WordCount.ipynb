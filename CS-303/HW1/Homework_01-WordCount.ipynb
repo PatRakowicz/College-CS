{
 "cells": [
  {
   "cell_type": "markdown",
   "id": "eaf21a2b",
   "metadata": {},
   "source": [
    "# import necessary modules"
   ]
  },
  {
   "cell_type": "code",
   "execution_count": 51,
   "id": "0ecadad5",
   "metadata": {},
   "outputs": [],
   "source": [
    "from collections import defaultdict"
    "import collections"
   ]
  },
  {
   "cell_type": "markdown",
   "id": "11bfa639",
   "metadata": {},
   "source": [
    "# get file names from user"
   ]
  },
  {
   "cell_type": "code",
   "execution_count": 52,
   "id": "9e5bbd02",
   "metadata": {},
   "outputs": [
    {
     "name": "stdout",
     "output_type": "stream",
     "text": [
      "ItsyBitsySpider.txt\n"
      "The itsy bitsy spider crawled up the water spout.\n",
      "Down came the rain, and washed the spider out.\n",
      "Out came the sun, and dried up all the rain,\n",
      "and the itsy bitsy spider went up the spout again\n"
     ]
    }
   ],
   "source": [
    "fileName = input(\"Enter a file name: \")\n",
    "print(fileName)"
    "\n",
    "try:\n",
    "    with open(filename, 'r') as file:\n",
    "        print(file.read())\n",
    "except FileNotFoundError:\n",
    "    print(f\"{filename} not found!\")"
    "fileName = input(\"Enter a file name: \")\n",
    "print(fileName)"
   ]
  },
  {
   "cell_type": "markdown",
   "id": "bd7ba8c2",
   "metadata": {},
   "source": [
    "# generate word counts of input file"
   ]
  },
  {
   "cell_type": "code",
   "execution_count": 9,
   "id": "debb38f7",
   "metadata": {
    "scrolled": true
   },
   "outputs": [
    {
     "name": "stdout",
     "output_type": "stream",
     "text": [
      "Word Count:  defaultdict(<class 'int'>, {'the': 8, 'itsy': 2, 'bitsy': 2, 'spider': 3, 'crawled': 1, 'up': 3, 'water': 1, 'spout': 2, 'down': 1, 'came': 2, 'rain': 2, 'and': 3, 'washed': 1, 'out': 2, 'sun': 1, 'dried': 1, 'all': 1, 'went': 1, 'again': 1})\n"
     ]
    }
   ],
   "source": [
    "file_name = input(\"Enter a file name: \")\n",
    "\n",
    "try:\n",
    "    with open(fileName, 'r') as f:\n",
    "        word_count = defaultdict(int)\n",
    "        for line in f:\n",
    "            words = line.split()\n",
    "            for word in words:\n",
    "                clean_word = \"\".join(c for c in word if c.isalnum()).lower()\n",
    "                word_count[clean_word] += 1\n",
    "        print(\"Word Count: \", word_count)\n",
    "except FileNotFoundError:\n",
    "try:\n",
    "    with open(fileName, 'r') as f:\n",
    "        word_count = defaultdict(int)\n",
    "        for line in f:\n",
    "            words = line.split()\n",
    "            for word in words:\n",
    "                clean_word = \"\".join(c for c in word if c.isalnum()).lower()\n",
    "                word_count[clean_word] += 1\n",
    "        print(\"Word Count: \", word_count)\n",
    "except FileNotFoundError:\n",
    "    print(\"The file does not exist.\")"
    ]
  },
  {
   "cell_type": "markdown",
   "id": "5fd79d36",
   "metadata": {},
   "source": [
    "# write word counts (sorted by word) to output file"
   ]
  },
  {
   "cell_type": "code",
   "execution_count": 10,
   "id": "a8d945d1",
   "metadata": {},
   "outputs": [],
   "source": [
    "import collections\n",
    "\n",
    "file_name = input(\"Enter a file name: \")\n",
    "try:\n",
    "    with open(output_file, 'w') as output:\n",
    "        for word, count in sorted(word_count.items()):\n",
    "            output.write(f\"{word} : {count}\\n\")\n",
    "except FileNotFoundError:\n",
    "output_file = 'output'\n",
    "try:\n",
    "    with open(output_file, 'w') as output:\n",
    "        for word, count in sorted(word_count.items()):\n",
    "            output.write(f\"{word} : {count}\\n\")\n",
    "except FileNotFoundError:\n",
    "    print(\"The File does not exist.\")"
   ]
  },
  {
   "cell_type": "markdown",
   "id": "163f23b8",
   "metadata": {},
   "source": [
    "# print word with max count"
   ]
  },
  {
   "cell_type": "code",
   "execution_count": 11,
   "id": "02d80e33",
   "metadata": {},
   "outputs": [
    {
     "name": "stdout",
     "output_type": "stream",
     "text": [
      "\"the\" with 8 times!\n"
     ]
    }
   ],
   "source": [
    "most_common_word = max(word_count, key=word_count.get)\n",
    "print(\"\\\"\" + most_common_word + \"\\\"\",\"with\", word_count[most_common_word], \"times!\")"
   ]
  }
 ],
 "metadata": {
  "kernelspec": {
   "display_name": "Python 3 (ipykernel)",
   "language": "python",
   "name": "python3"
  },
  "language_info": {
   "codemirror_mode": {
    "name": "ipython",
    "version": 3
   },
   "file_extension": ".py",
   "mimetype": "text/x-python",
   "name": "python",
   "nbconvert_exporter": "python",
   "pygments_lexer": "ipython3",
   "version": "3.9.7"
  }
 },
 "nbformat": 4,
 "nbformat_minor": 5
}
