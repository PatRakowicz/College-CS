{
 "cells": [
  {
   "cell_type": "markdown",
   "id": "eaf21a2b",
   "metadata": {},
   "source": [
    "# import necessary modules"
   ]
  },
  {
   "cell_type": "code",
   "execution_count": 1,
   "id": "0ecadad5",
   "metadata": {},
   "outputs": [],
   "source": [
    "import collections"
   ]
  },
  {
   "cell_type": "markdown",
   "id": "11bfa639",
   "metadata": {},
   "source": [
    "# get file names from user"
   ]
  },
  {
   "cell_type": "code",
   "execution_count": 1,
   "id": "9e5bbd02",
   "metadata": {},
   "outputs": [
    {
     "name": "stdout",
     "output_type": "stream",
     "text": [
      "The itsy bitsy spider crawled up the water spout.\n",
      "Down came the rain, and washed the spider out.\n",
      "Out came the sun, and dried up all the rain,\n",
      "and the itsy bitsy spider went up the spout again\n"
     ]
    }
   ],
   "source": [
    "filename = input(\"Enter a file name: \")\n",
    "\n",
    "try:\n",
    "    with open(filename, 'r') as file:\n",
    "        print(file.read())\n",
    "except FileNotFoundError:\n",
    "    print(f\"{filename} not found!\")"
   ]
  },
  {
   "cell_type": "markdown",
   "id": "b7b5632d",
   "metadata": {},
   "source": [
    "# generate word counts of input file"
   ]
  },
  {
   "cell_type": "code",
   "execution_count": 1,
   "id": "debb38f7",
   "metadata": {
    "scrolled": true
   },
   "outputs": [
    {
     "name": "stdout",
     "output_type": "stream",
     "text": [
      "Word count:  38\n"
     ]
    }
   ],
   "source": [
    "file_name = input(\"Enter a file name: \")\n",
    "\n",
    "try:\n",
    "    with open(file_name, 'r') as f:\n",
    "        content = f.read()\n",
    "        words = content.split()\n",
    "        word_count = len(words)\n",
    "        print(\"Word count: \", word_count)\n",
    "except FileNotFoundError:\n",
    "    print(f\"{file_name} not found.\")"
   ]
  },
  {
   "cell_type": "markdown",
   "id": "5fd79d36",
   "metadata": {},
   "source": [
    "# write word counts (sorted by word) to output file"
   ]
  },
  {
   "cell_type": "code",
   "execution_count": 2,
   "id": "a8d945d1",
   "metadata": {},
   "outputs": [],
   "source": [
    "import collections\n",
    "\n",
    "file_name = input(\"Enter a file name: \")\n",
    "try:\n",
    "    with open(file_name, 'r') as f:\n",
    "        content = f.read()\n",
    "        words = content.lower().split()\n",
    "        word_count = collections.Counter(words)\n",
    "        sorted_word_count = sorted(word_count.items())\n",
    "\n",
    "        output_file = input(\"Enter output file name: \")\n",
    "        with open(output_file, 'w') as f:\n",
    "            for word, count in sorted_word_count:\n",
    "                f.write(word + \": \" + str(count) + '\\n')\n",
    "\n",
    "except FileNotFoundError:\n",
    "    print(f\"{file_name} not found.\")"
   ]
  },
  {
   "cell_type": "markdown",
   "id": "062114cf",
   "metadata": {},
   "source": [
    "# print word with max count"
   ]
  },
  {
   "cell_type": "code",
   "execution_count": 5,
   "id": "5a8ec5ff",
   "metadata": {},
   "outputs": [],
   "source": []
  }
 ],
 "metadata": {
  "kernelspec": {
   "display_name": "Python 3 (ipykernel)",
   "language": "python",
   "name": "python3"
  },
  "language_info": {
   "codemirror_mode": {
    "name": "ipython",
    "version": 3
   },
   "file_extension": ".py",
   "mimetype": "text/x-python",
   "name": "python",
   "nbconvert_exporter": "python",
   "pygments_lexer": "ipython3",
   "version": "3.9.7"
  }
 },
 "nbformat": 4,
 "nbformat_minor": 5
}
