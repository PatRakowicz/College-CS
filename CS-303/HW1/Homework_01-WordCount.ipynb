{
 "cells": [
  {
   "cell_type": "markdown",
   "id": "eaf21a2b",
   "metadata": {},
   "source": [
    "# import necessary modules"
   ]
  },
  {
   "cell_type": "code",
<<<<<<< HEAD
   "execution_count": 1,
=======
   "execution_count": 51,
>>>>>>> 9a7a50b7bd48f18c642ae6e95c27b5cec5e1ace0
   "id": "0ecadad5",
   "metadata": {},
   "outputs": [],
   "source": [
<<<<<<< HEAD
    "import collections"
=======
    "from collections import defaultdict"
>>>>>>> 9a7a50b7bd48f18c642ae6e95c27b5cec5e1ace0
   ]
  },
  {
   "cell_type": "markdown",
   "id": "11bfa639",
   "metadata": {},
   "source": [
    "# get file names from user"
   ]
  },
  {
   "cell_type": "code",
<<<<<<< HEAD
   "execution_count": 1,
=======
   "execution_count": 52,
>>>>>>> 9a7a50b7bd48f18c642ae6e95c27b5cec5e1ace0
   "id": "9e5bbd02",
   "metadata": {},
   "outputs": [
    {
     "name": "stdout",
     "output_type": "stream",
     "text": [
<<<<<<< HEAD
=======
      "ItsyBitsySpider.txt\n"
>>>>>>> 9a7a50b7bd48f18c642ae6e95c27b5cec5e1ace0
      "The itsy bitsy spider crawled up the water spout.\n",
      "Down came the rain, and washed the spider out.\n",
      "Out came the sun, and dried up all the rain,\n",
      "and the itsy bitsy spider went up the spout again\n"
     ]
    }
   ],
   "source": [
<<<<<<< HEAD
    "filename = input(\"Enter a file name: \")\n",
    "\n",
    "try:\n",
    "    with open(filename, 'r') as file:\n",
    "        print(file.read())\n",
    "except FileNotFoundError:\n",
    "    print(f\"{filename} not found!\")"
=======
    "fileName = input(\"Enter a file name: \")\n",
    "print(fileName)"
>>>>>>> 9a7a50b7bd48f18c642ae6e95c27b5cec5e1ace0
   ]
  },
  {
   "cell_type": "markdown",
<<<<<<< HEAD
   "id": "b7b5632d",
=======
   "id": "bd7ba8c2",
>>>>>>> 9a7a50b7bd48f18c642ae6e95c27b5cec5e1ace0
   "metadata": {},
   "source": [
    "# generate word counts of input file"
   ]
  },
  {
   "cell_type": "code",
<<<<<<< HEAD
   "execution_count": 1,
=======
   "execution_count": 9,
>>>>>>> 9a7a50b7bd48f18c642ae6e95c27b5cec5e1ace0
   "id": "debb38f7",
   "metadata": {
    "scrolled": true
   },
   "outputs": [
    {
     "name": "stdout",
     "output_type": "stream",
     "text": [
<<<<<<< HEAD
      "Word count:  38\n"
=======
      "Word Count:  defaultdict(<class 'int'>, {'the': 8, 'itsy': 2, 'bitsy': 2, 'spider': 3, 'crawled': 1, 'up': 3, 'water': 1, 'spout': 2, 'down': 1, 'came': 2, 'rain': 2, 'and': 3, 'washed': 1, 'out': 2, 'sun': 1, 'dried': 1, 'all': 1, 'went': 1, 'again': 1})\n"
>>>>>>> 9a7a50b7bd48f18c642ae6e95c27b5cec5e1ace0
     ]
    }
   ],
   "source": [
<<<<<<< HEAD
    "file_name = input(\"Enter a file name: \")\n",
    "\n",
    "try:\n",
    "    with open(file_name, 'r') as f:\n",
    "        content = f.read()\n",
    "        words = content.split()\n",
    "        word_count = len(words)\n",
    "        print(\"Word count: \", word_count)\n",
    "except FileNotFoundError:\n",
    "    print(f\"{file_name} not found.\")"
   ]
=======
    "try:\n",
    "    with open(fileName, 'r') as f:\n",
    "        word_count = defaultdict(int)\n",
    "        for line in f:\n",
    "            words = line.split()\n",
    "            for word in words:\n",
    "                clean_word = \"\".join(c for c in word if c.isalnum()).lower()\n",
    "                word_count[clean_word] += 1\n",
    "        print(\"Word Count: \", word_count)\n",
    "except FileNotFoundError:\n",
    "    print(\"The file does not exist.\")"
    ]
>>>>>>> 9a7a50b7bd48f18c642ae6e95c27b5cec5e1ace0
  },
  {
   "cell_type": "markdown",
   "id": "5fd79d36",
   "metadata": {},
   "source": [
    "# write word counts (sorted by word) to output file"
   ]
  },
  {
   "cell_type": "code",
<<<<<<< HEAD
   "execution_count": 2,
=======
   "execution_count": 10,
>>>>>>> 9a7a50b7bd48f18c642ae6e95c27b5cec5e1ace0
   "id": "a8d945d1",
   "metadata": {},
   "outputs": [],
   "source": [
<<<<<<< HEAD
    "import collections\n",
    "\n",
    "file_name = input(\"Enter a file name: \")\n",
    "try:\n",
    "    with open(file_name, 'r') as f:\n",
    "        content = f.read()\n",
    "        words = content.lower().split()\n",
    "        word_count = collections.Counter(words)\n",
    "        sorted_word_count = sorted(word_count.items())\n",
    "\n",
    "        output_file = input(\"Enter output file name: \")\n",
    "        with open(output_file, 'w') as f:\n",
    "            for word, count in sorted_word_count:\n",
    "                f.write(word + \": \" + str(count) + '\\n')\n",
    "\n",
    "except FileNotFoundError:\n",
    "    print(f\"{file_name} not found.\")"
=======
    "output_file = 'output'\n",
    "try:\n",
    "    with open(output_file, 'w') as output:\n",
    "        for word, count in sorted(word_count.items()):\n",
    "            output.write(f\"{word} : {count}\\n\")\n",
    "except FileNotFoundError:\n",
    "    print(\"The File does not exist.\")"
>>>>>>> 9a7a50b7bd48f18c642ae6e95c27b5cec5e1ace0
   ]
  },
  {
   "cell_type": "markdown",
<<<<<<< HEAD
   "id": "062114cf",
=======
   "id": "163f23b8",
>>>>>>> 9a7a50b7bd48f18c642ae6e95c27b5cec5e1ace0
   "metadata": {},
   "source": [
    "# print word with max count"
   ]
  },
  {
   "cell_type": "code",
<<<<<<< HEAD
   "execution_count": 5,
   "id": "5a8ec5ff",
   "metadata": {},
   "outputs": [],
   "source": []
=======
   "execution_count": 11,
   "id": "02d80e33",
   "metadata": {},
   "outputs": [
    {
     "name": "stdout",
     "output_type": "stream",
     "text": [
      "\"the\" with 8 times!\n"
     ]
    }
   ],
   "source": [
    "most_common_word = max(word_count, key=word_count.get)\n",
    "print(\"\\\"\" + most_common_word + \"\\\"\",\"with\", word_count[most_common_word], \"times!\")"
   ]
>>>>>>> 9a7a50b7bd48f18c642ae6e95c27b5cec5e1ace0
  }
 ],
 "metadata": {
  "kernelspec": {
   "display_name": "Python 3 (ipykernel)",
   "language": "python",
   "name": "python3"
  },
  "language_info": {
   "codemirror_mode": {
    "name": "ipython",
    "version": 3
   },
   "file_extension": ".py",
   "mimetype": "text/x-python",
   "name": "python",
   "nbconvert_exporter": "python",
   "pygments_lexer": "ipython3",
   "version": "3.9.7"
  }
 },
 "nbformat": 4,
 "nbformat_minor": 5
}
