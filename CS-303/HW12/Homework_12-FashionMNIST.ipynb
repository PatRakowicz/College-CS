{
 "cells": [
  {
   "cell_type": "markdown",
   "id": "a3350707",
   "metadata": {},
   "source": [
    "# import modules"
   ]
  },
  {
   "cell_type": "code",
   "execution_count": 36,
   "id": "a4f9c4da",
   "metadata": {
    "ExecuteTime": {
     "start_time": "2023-04-07T17:22:38.720201Z",
     "end_time": "2023-04-07T17:22:38.812460Z"
    }
   },
   "outputs": [],
   "source": [
    "import numpy as np\n",
    "import pandas as pd\n",
    "import matplotlib.pyplot as plt\n",
    "import tensorflow as tf\n",
    "from tensorflow import keras"
   ]
  },
  {
   "cell_type": "markdown",
   "id": "00d7bf9f",
   "metadata": {},
   "source": [
    "# helper functions (if necessary)"
   ]
  },
  {
   "cell_type": "code",
   "execution_count": 37,
   "id": "45991956",
   "metadata": {
    "ExecuteTime": {
     "start_time": "2023-04-07T17:22:38.739150Z",
     "end_time": "2023-04-07T17:22:38.845374Z"
    }
   },
   "outputs": [],
   "source": [
    "# Code"
   ]
  },
  {
   "cell_type": "markdown",
   "id": "9f018ae3",
   "metadata": {},
   "source": [
    "# read in training data"
   ]
  },
  {
   "cell_type": "code",
   "execution_count": 38,
   "id": "4c95aea2",
   "metadata": {
    "ExecuteTime": {
     "start_time": "2023-04-07T17:22:38.754110Z",
     "end_time": "2023-04-07T17:22:41.798021Z"
    }
   },
   "outputs": [
    {
     "name": "stdout",
     "output_type": "stream",
     "text": [
      "       label  pixel1  pixel2  pixel3  pixel4  pixel5  pixel6  pixel7  pixel8  \\\n",
      "0          2       0       0       0       0       0       0       0       0   \n",
      "1          9       0       0       0       0       0       0       0       0   \n",
      "2          6       0       0       0       0       0       0       0       5   \n",
      "3          0       0       0       0       1       2       0       0       0   \n",
      "4          3       0       0       0       0       0       0       0       0   \n",
      "...      ...     ...     ...     ...     ...     ...     ...     ...     ...   \n",
      "59995      9       0       0       0       0       0       0       0       0   \n",
      "59996      1       0       0       0       0       0       0       0       0   \n",
      "59997      8       0       0       0       0       0       0       0       0   \n",
      "59998      8       0       0       0       0       0       0       0       0   \n",
      "59999      7       0       0       0       0       0       0       0       0   \n",
      "\n",
      "       pixel9  ...  pixel775  pixel776  pixel777  pixel778  pixel779  \\\n",
      "0           0  ...         0         0         0         0         0   \n",
      "1           0  ...         0         0         0         0         0   \n",
      "2           0  ...         0         0         0        30        43   \n",
      "3           0  ...         3         0         0         0         0   \n",
      "4           0  ...         0         0         0         0         0   \n",
      "...       ...  ...       ...       ...       ...       ...       ...   \n",
      "59995       0  ...         0         0         0         0         0   \n",
      "59996       0  ...        73         0         0         0         0   \n",
      "59997       0  ...       160       162       163       135        94   \n",
      "59998       0  ...         0         0         0         0         0   \n",
      "59999       0  ...         0         0         0         0         0   \n",
      "\n",
      "       pixel780  pixel781  pixel782  pixel783  pixel784  \n",
      "0             0         0         0         0         0  \n",
      "1             0         0         0         0         0  \n",
      "2             0         0         0         0         0  \n",
      "3             1         0         0         0         0  \n",
      "4             0         0         0         0         0  \n",
      "...         ...       ...       ...       ...       ...  \n",
      "59995         0         0         0         0         0  \n",
      "59996         0         0         0         0         0  \n",
      "59997         0         0         0         0         0  \n",
      "59998         0         0         0         0         0  \n",
      "59999         0         0         0         0         0  \n",
      "\n",
      "[60000 rows x 785 columns]\n"
     ]
    }
   ],
   "source": [
    "train_data = pd.read_csv(\"train.csv\")\n",
    "print(train_data)"
   ]
  },
  {
   "cell_type": "markdown",
   "id": "03fbf5aa",
   "metadata": {},
   "source": [
    "# visualize data"
   ]
  },
  {
   "cell_type": "code",
   "execution_count": 39,
   "id": "39f2dca2",
   "metadata": {
    "ExecuteTime": {
     "start_time": "2023-04-07T17:22:41.801012Z",
     "end_time": "2023-04-07T17:22:42.705623Z"
    }
   },
   "outputs": [
    {
     "data": {
      "text/plain": "<Figure size 1500x300 with 10 Axes>",
      "image/png": "[encoded data removed]"
     },
     "metadata": {},
     "output_type": "display_data"
    }
   ],
   "source": [
    "X_train = train_data.iloc[:, 1:].values.astype('float32')\n",
    "y_train = train_data.iloc[:, 0].values.astype('int32')\n",
    "X_train = X_train / 255.0\n",
    "\n",
    "# Reshaping the input features to 28x28 pixels\n",
    "X_train = X_train.reshape(X_train.shape[0], 28, 28)\n",
    "\n",
    "# Visualizing a random image for each unique category (label)\n",
    "fig, axs = plt.subplots(1, 10, figsize=(15, 3))\n",
    "for i in range(10):\n",
    "    axs[i].imshow(X_train[y_train == i][np.random.randint(0, 5000), :, :], cmap='gray')\n",
    "    axs[i].set_title(str(i))\n",
    "plt.show()"
   ]
  },
  {
   "cell_type": "markdown",
   "id": "33775b90",
   "metadata": {},
   "source": [
    "# experiment with classifier parameters"
   ]
  },
  {
   "cell_type": "code",
   "execution_count": 40,
   "id": "7e1bfe46",
   "metadata": {
    "ExecuteTime": {
     "start_time": "2023-04-07T17:22:42.709612Z",
     "end_time": "2023-04-07T17:22:42.799371Z"
    }
   },
   "outputs": [],
   "source": [
    "X_train = X_train / 255.0\n",
    "y_train_cat = keras.utils.to_categorical(y_train, 10)\n",
    "\n",
    "# Building a deep neural network model\n",
    "model = keras.models.Sequential([\n",
    "    keras.layers.Flatten(input_shape=(28, 28)),\n",
    "    keras.layers.Dense(256, activation='relu'),\n",
    "    keras.layers.Dropout(0.2),\n",
    "    keras.layers.Dense(128, activation='relu'),\n",
    "    keras.layers.Dropout(0.2),\n",
    "    keras.layers.Dense(10, activation='softmax')\n",
    "])\n",
    "\n",
    "# Compiling the model\n",
    "model.compile(loss='categorical_crossentropy', optimizer='adam', metrics=['accuracy'])"
   ]
  },
  {
   "cell_type": "markdown",
   "id": "1424f7d8",
   "metadata": {},
   "source": [
    "# Question: What classifier model parameters work best?"
   ]
  },
  {
   "cell_type": "markdown",
   "id": "22a330f2",
   "metadata": {},
   "source": [
    "answer goes here.."
   ]
  },
  {
   "cell_type": "markdown",
   "id": "ad30e362",
   "metadata": {},
   "source": [
    "# train a \"fresh\" classification model"
   ]
  },
  {
   "cell_type": "code",
   "execution_count": 44,
   "id": "e14a86df",
   "metadata": {
    "ExecuteTime": {
     "start_time": "2023-04-07T17:23:51.804136Z",
     "end_time": "2023-04-07T17:24:08.094479Z"
    }
   },
   "outputs": [
    {
     "name": "stdout",
     "output_type": "stream",
     "text": [
      "Epoch 1/10\n",
      "469/469 [==============================] - 1s 3ms/step - loss: 0.3938 - accuracy: 0.8587\n",
      "Epoch 2/10\n",
      "469/469 [==============================] - 1s 3ms/step - loss: 0.3847 - accuracy: 0.8622\n",
      "Epoch 3/10\n",
      "469/469 [==============================] - 1s 3ms/step - loss: 0.3754 - accuracy: 0.8654\n",
      "Epoch 4/10\n",
      "469/469 [==============================] - 1s 3ms/step - loss: 0.3678 - accuracy: 0.8685\n",
      "Epoch 5/10\n",
      "469/469 [==============================] - 1s 3ms/step - loss: 0.3624 - accuracy: 0.8693\n",
      "Epoch 6/10\n",
      "469/469 [==============================] - 1s 3ms/step - loss: 0.3544 - accuracy: 0.8715\n",
      "Epoch 7/10\n",
      "469/469 [==============================] - 1s 3ms/step - loss: 0.3496 - accuracy: 0.8742\n",
      "Epoch 8/10\n",
      "469/469 [==============================] - 1s 3ms/step - loss: 0.3440 - accuracy: 0.8762\n",
      "Epoch 9/10\n",
      "469/469 [==============================] - 1s 3ms/step - loss: 0.3377 - accuracy: 0.8785\n",
      "Epoch 10/10\n",
      "469/469 [==============================] - 1s 3ms/step - loss: 0.3332 - accuracy: 0.8795\n",
      "Training loss: 0.30549827218055725\n",
      "Training accuracy: 0.8885833621025085\n"
     ]
    }
   ],
   "source": [
    "model.fit(X_train, y_train_cat, epochs=10, batch_size=128)\n",
    "\n",
    "# Evaluate model on training set\n",
    "train_loss, train_acc = model.evaluate(X_train, y_train_cat, verbose=0)\n",
    "print('Training loss:', train_loss)\n",
    "print('Training accuracy:', train_acc)"
   ]
  },
  {
   "cell_type": "markdown",
   "id": "598f9ef8",
   "metadata": {},
   "source": [
    "# read in test data"
   ]
  },
  {
   "cell_type": "code",
   "execution_count": 42,
   "id": "e50da218",
   "metadata": {
    "ExecuteTime": {
     "start_time": "2023-04-07T17:22:57.570717Z",
     "end_time": "2023-04-07T17:22:58.065393Z"
    }
   },
   "outputs": [
    {
     "name": "stdout",
     "output_type": "stream",
     "text": [
      "      pixel1  pixel2  pixel3  pixel4  pixel5  pixel6  pixel7  pixel8  pixel9  \\\n",
      "0          0       0       0       0       0       0       0       9       8   \n",
      "1          0       0       0       0       0       0       0       0       0   \n",
      "2          0       0       0       0       0       0      14      53      99   \n",
      "3          0       0       0       0       0       0       0       0       0   \n",
      "4          0       0       0       0       0       0       0       0       0   \n",
      "...      ...     ...     ...     ...     ...     ...     ...     ...     ...   \n",
      "9995       0       0       0       0       0       0       0       0       0   \n",
      "9996       0       0       0       0       0       0       0       0       0   \n",
      "9997       0       0       0       0       0       0       0       0       0   \n",
      "9998       0       1       3       0       0       0       0       0       0   \n",
      "9999       0       0       0       0       0       0       0     140     119   \n",
      "\n",
      "      pixel10  ...  pixel775  pixel776  pixel777  pixel778  pixel779  \\\n",
      "0           0  ...       103        87        56         0         0   \n",
      "1           0  ...        34         0         0         0         0   \n",
      "2          17  ...         0         0         0         0        63   \n",
      "3         161  ...       137       126       140         0       133   \n",
      "4           0  ...         0         0         0         0         0   \n",
      "...       ...  ...       ...       ...       ...       ...       ...   \n",
      "9995       37  ...        32        23        14        20         0   \n",
      "9996        0  ...         0         0         0         2        52   \n",
      "9997        0  ...       175       172       172       182       199   \n",
      "9998        0  ...         0         0         0         0         0   \n",
      "9999      103  ...       111        95        75        44         1   \n",
      "\n",
      "      pixel780  pixel781  pixel782  pixel783  pixel784  \n",
      "0            0         0         0         0         0  \n",
      "1            0         0         0         0         0  \n",
      "2           53        31         0         0         0  \n",
      "3          224       222        56         0         0  \n",
      "4            0         0         0         0         0  \n",
      "...        ...       ...       ...       ...       ...  \n",
      "9995         0         1         0         0         0  \n",
      "9996        23        28         0         0         0  \n",
      "9997       222        42         0         1         0  \n",
      "9998         1         0         0         0         0  \n",
      "9999         0         0         0         0         0  \n",
      "\n",
      "[10000 rows x 784 columns]\n"
     ]
    }
   ],
   "source": [
    "test_data = pd.read_csv(\"test.csv\")\n",
    "print(test_data)\n"
   ]
  },
  {
   "cell_type": "markdown",
   "id": "69160442",
   "metadata": {},
   "source": [
    "# predict test data labels with trained classifier"
   ]
  },
  {
   "cell_type": "code",
   "execution_count": 43,
   "id": "75afec44",
   "metadata": {
    "ExecuteTime": {
     "start_time": "2023-04-07T17:22:58.066391Z",
     "end_time": "2023-04-07T17:22:58.610442Z"
    }
   },
   "outputs": [
    {
     "name": "stdout",
     "output_type": "stream",
     "text": [
      "313/313 [==============================] - 0s 895us/step\n"
     ]
    }
   ],
   "source": [
    "X_test = test_data.values.astype('float32')\n",
    "X_test = X_test.reshape(X_test.shape[0], 28, 28)\n",
    "X_test = X_test / 255.0\n",
    "\n",
    "y_test_pred = model.predict(X_test)\n",
    "y_test_pred = np.argmax(y_test_pred, axis=1)"
   ]
  },
  {
   "cell_type": "markdown",
   "id": "cb7c301b",
   "metadata": {},
   "source": [
    "# write test data with predictions to \\<YourLastName>.csv"
   ]
  },
  {
   "cell_type": "code",
   "execution_count": 45,
   "id": "24af6961",
   "metadata": {
    "ExecuteTime": {
     "start_time": "2023-04-07T17:24:14.849525Z",
     "end_time": "2023-04-07T17:24:14.895401Z"
    }
   },
   "outputs": [],
   "source": [
    "submission_df = pd.DataFrame({'Label': y_test_pred})\n",
    "submission_df.index += 1\n",
    "submission_df.index.name = 'ImageId'\n",
    "submission_df.to_csv('Rakowicz.csv')"
   ]
  }
 ],
 "metadata": {
  "kernelspec": {
   "display_name": "Python 3 (ipykernel)",
   "language": "python",
   "name": "python3"
  },
  "language_info": {
   "codemirror_mode": {
    "name": "ipython",
    "version": 3
   },
   "file_extension": ".py",
   "mimetype": "text/x-python",
   "name": "python",
   "nbconvert_exporter": "python",
   "pygments_lexer": "ipython3",
   "version": "3.9.0"
  }
 },
 "nbformat": 4,
 "nbformat_minor": 5
}
