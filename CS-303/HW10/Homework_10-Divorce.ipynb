{
 "cells": [
  {
   "cell_type": "markdown",
   "id": "674d91da",
   "metadata": {},
   "source": [
    "# import modules"
   ]
  },
  {
   "cell_type": "code",
   "execution_count": 1,
   "id": "ba75be79",
   "metadata": {},
   "outputs": [],
   "source": [
    "# python code..."
   ]
  },
  {
   "cell_type": "markdown",
   "id": "b143c44d",
   "metadata": {},
   "source": [
    "# helper functions (if necessary)"
   ]
  },
  {
   "cell_type": "code",
   "execution_count": 1,
   "id": "ee6d72ef",
   "metadata": {},
   "outputs": [],
   "source": [
    "# python code..."
   ]
  },
  {
   "cell_type": "markdown",
   "id": "fe688e7b",
   "metadata": {},
   "source": [
    "# read in training data"
   ]
  },
  {
   "cell_type": "code",
   "execution_count": 2,
   "id": "97470a53",
   "metadata": {},
   "outputs": [],
   "source": [
    "# python code..."
   ]
  },
  {
   "cell_type": "markdown",
   "id": "fa5f15f7",
   "metadata": {},
   "source": [
    "# analyze and visualize data"
   ]
  },
  {
   "cell_type": "code",
   "execution_count": 3,
   "id": "99d89f68",
   "metadata": {},
   "outputs": [],
   "source": [
    "# python code..."
   ]
  },
  {
   "cell_type": "markdown",
   "id": "1c2444c2",
   "metadata": {},
   "source": [
    "# experiment with features and models to predict Divorce class"
   ]
  },
  {
   "cell_type": "code",
   "execution_count": 4,
   "id": "bb6630ed",
   "metadata": {},
   "outputs": [],
   "source": [
    "# python code..."
   ]
  },
  {
   "cell_type": "markdown",
   "id": "50698685",
   "metadata": {},
   "source": [
    "# Question: What features and model parameters worked \"best\"?  Why?"
   ]
  },
  {
   "cell_type": "markdown",
   "id": "fe7d6679",
   "metadata": {},
   "source": [
    "answer goes here"
   ]
  },
  {
   "cell_type": "markdown",
   "id": "729f0dea",
   "metadata": {},
   "source": [
    "# build \"fresh\" classification model based on experimentation"
   ]
  },
  {
   "cell_type": "code",
   "execution_count": 5,
   "id": "59997a42",
   "metadata": {},
   "outputs": [],
   "source": [
    "# python code..."
   ]
  },
  {
   "cell_type": "markdown",
   "id": "c3feb640",
   "metadata": {},
   "source": [
    "# read in test data"
   ]
  },
  {
   "cell_type": "code",
   "execution_count": 6,
   "id": "5b817ac0",
   "metadata": {},
   "outputs": [],
   "source": [
    "# python code..."
   ]
  },
  {
   "cell_type": "markdown",
   "id": "5c92ba20",
   "metadata": {},
   "source": [
    "# predict Divorce class of test data"
   ]
  },
  {
   "cell_type": "code",
   "execution_count": 7,
   "id": "e50d5074",
   "metadata": {},
   "outputs": [],
   "source": [
    "# python code..."
   ]
  },
  {
   "cell_type": "markdown",
   "id": "14c1d8e3",
   "metadata": {},
   "source": [
    "# write test data with predictions to \\<YourLastName.csv>"
   ]
  },
  {
   "cell_type": "code",
   "execution_count": 8,
   "id": "4f752b24",
   "metadata": {},
   "outputs": [],
   "source": [
    "# python code..."
   ]
  }
 ],
 "metadata": {
  "kernelspec": {
   "display_name": "Python 3 (ipykernel)",
   "language": "python",
   "name": "python3"
  },
  "language_info": {
   "codemirror_mode": {
    "name": "ipython",
    "version": 3
   },
   "file_extension": ".py",
   "mimetype": "text/x-python",
   "name": "python",
   "nbconvert_exporter": "python",
   "pygments_lexer": "ipython3",
   "version": "3.9.0"
  }
 },
 "nbformat": 4,
 "nbformat_minor": 5
}
