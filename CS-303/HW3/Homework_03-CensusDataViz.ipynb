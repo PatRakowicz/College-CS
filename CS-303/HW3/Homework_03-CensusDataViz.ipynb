{
 "cells": [
  {
   "cell_type": "markdown",
   "id": "d8c51f0f",
   "metadata": {},
   "source": [
    "# import statements"
   ]
  },
  {
   "cell_type": "code",
   "execution_count": 1,
   "id": "f0f66c17",
   "metadata": {},
   "outputs": [],
   "source": [
    "#import statements.."
   ]
  },
  {
   "cell_type": "markdown",
   "id": "3b68ec7b",
   "metadata": {},
   "source": [
    "# python code to read census data into pandas data frame"
   ]
  },
  {
   "cell_type": "code",
   "execution_count": 2,
   "id": "2e1397c8",
   "metadata": {},
   "outputs": [],
   "source": [
    "#python code..."
   ]
  },
  {
   "cell_type": "markdown",
   "id": "a1ea4af7",
   "metadata": {},
   "source": [
    "# helper functions (if needed)"
   ]
  },
  {
   "cell_type": "code",
   "execution_count": 3,
   "id": "b4a287b4",
   "metadata": {},
   "outputs": [],
   "source": [
    "#python code..."
   ]
  },
  {
   "cell_type": "markdown",
   "id": "3dcff953",
   "metadata": {},
   "source": [
    "# python code to process, analyze, visualize trend #1"
   ]
  },
  {
   "cell_type": "code",
   "execution_count": 4,
   "id": "00e1689c",
   "metadata": {},
   "outputs": [],
   "source": [
    "#python code"
   ]
  },
  {
   "cell_type": "markdown",
   "id": "94a41e5a",
   "metadata": {},
   "source": [
    "# plaintext explanation of trend #1.  What did you find?  How does your graph show this trend?"
   ]
  },
  {
   "cell_type": "markdown",
   "id": "4f4d7ca9",
   "metadata": {},
   "source": [
    "answer goes here..."
   ]
  },
  {
   "cell_type": "markdown",
   "id": "63a45b78",
   "metadata": {},
   "source": [
    "# python code to process, analyze, visualize trend #2"
   ]
  },
  {
   "cell_type": "code",
   "execution_count": 5,
   "id": "6baf2883",
   "metadata": {},
   "outputs": [],
   "source": [
    "#python code..."
   ]
  },
  {
   "cell_type": "markdown",
   "id": "744f02a3",
   "metadata": {},
   "source": [
    "# plaintext explanation of trend #2.  What did you find?  How does your graph show this trend?"
   ]
  },
  {
   "cell_type": "markdown",
   "id": "732ffcd1",
   "metadata": {},
   "source": [
    "answer goes here..."
   ]
  },
  {
   "cell_type": "markdown",
   "id": "51e4daaf",
   "metadata": {},
   "source": [
    "# python code to process, analyze, visualize trend #3\n"
   ]
  },
  {
   "cell_type": "code",
   "execution_count": 6,
   "id": "f2a083b3",
   "metadata": {},
   "outputs": [],
   "source": [
    "#python code..."
   ]
  },
  {
   "cell_type": "markdown",
   "id": "c26e43c0",
   "metadata": {},
   "source": [
    "# plaintext explanation of trend #3. What did you find? How does your graph show this trend?"
   ]
  },
  {
   "cell_type": "markdown",
   "id": "1c144ae8",
   "metadata": {},
   "source": [
    "answer goes here..."
   ]
  },
  {
   "cell_type": "markdown",
   "id": "87f82c57",
   "metadata": {},
   "source": [
    "# python code to process, analyze, visualize trend #4"
   ]
  },
  {
   "cell_type": "code",
   "execution_count": 7,
   "id": "cfe2909f",
   "metadata": {},
   "outputs": [],
   "source": [
    "#python code..."
   ]
  },
  {
   "cell_type": "markdown",
   "id": "6906bd2d",
   "metadata": {},
   "source": [
    "# plaintext explanation of trend #4.  What did you find? How does your graph show this trend?"
   ]
  },
  {
   "cell_type": "markdown",
   "id": "6e307b83",
   "metadata": {},
   "source": [
    "answer goes here..."
   ]
  },
  {
   "cell_type": "markdown",
   "id": "acaa404e",
   "metadata": {},
   "source": [
    "# python code to process, analyze, visualize trend #5"
   ]
  },
  {
   "cell_type": "code",
   "execution_count": 8,
   "id": "636e541f",
   "metadata": {},
   "outputs": [],
   "source": [
    "#python code..."
   ]
  },
  {
   "cell_type": "markdown",
   "id": "b5f78f70",
   "metadata": {},
   "source": [
    "# plaintext explanation of trend #5. What did you find? How does your graph show this trend?"
   ]
  },
  {
   "cell_type": "markdown",
   "id": "0299a657",
   "metadata": {},
   "source": [
    "answer goes here..."
   ]
  }
 ],
 "metadata": {
  "kernelspec": {
   "display_name": "Python 3 (ipykernel)",
   "language": "python",
   "name": "python3"
  },
  "language_info": {
   "codemirror_mode": {
    "name": "ipython",
    "version": 3
   },
   "file_extension": ".py",
   "mimetype": "text/x-python",
   "name": "python",
   "nbconvert_exporter": "python",
   "pygments_lexer": "ipython3",
   "version": "3.9.7"
  }
 },
 "nbformat": 4,
 "nbformat_minor": 5
}
