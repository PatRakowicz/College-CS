{
 "cells": [
  {
   "cell_type": "markdown",
   "id": "da8e8ddf",
   "metadata": {},
   "source": [
    "# import statements"
   ]
  },
  {
   "cell_type": "code",
   "execution_count": 5,
   "id": "e0dda12c",
   "metadata": {},
   "outputs": [],
   "source": [
    "import numpy as np\n",
    "import pandas as pd"
   ]
  },
  {
   "cell_type": "markdown",
   "id": "a387acc1",
   "metadata": {},
   "source": [
    "# code to read student.csv into pandas dataframe "
   ]
  },
  {
   "cell_type": "code",
   "execution_count": 11,
   "id": "d7907a5f",
   "metadata": {},
   "outputs": [],
   "source": [
    "file = pd.read_csv('student.csv', delimiter=';')"
   ]
  },
  {
   "cell_type": "markdown",
   "id": "9763d0ec",
   "metadata": {},
   "source": [
    "# helper functions (if needed)"
   ]
  },
  {
   "cell_type": "code",
   "execution_count": 13,
   "id": "449bea30",
   "metadata": {},
   "outputs": [
    {
     "name": "stdout",
     "output_type": "stream",
     "text": [
      "    school sex  age address famsize Pstatus  Medu  Fedu      Mjob      Fjob  \\\n",
      "0       GP   F   18       U     GT3       A     4     4   at_home   teacher   \n",
      "1       GP   F   17       U     GT3       T     1     1   at_home     other   \n",
      "2       GP   F   15       U     LE3       T     1     1   at_home     other   \n",
      "3       GP   F   15       U     GT3       T     4     2    health  services   \n",
      "4       GP   F   16       U     GT3       T     3     3     other     other   \n",
      "..     ...  ..  ...     ...     ...     ...   ...   ...       ...       ...   \n",
      "390     MS   M   20       U     LE3       A     2     2  services  services   \n",
      "391     MS   M   17       U     LE3       T     3     1  services  services   \n",
      "392     MS   M   21       R     GT3       T     1     1     other     other   \n",
      "393     MS   M   18       R     LE3       T     3     2  services     other   \n",
      "394     MS   M   19       U     LE3       T     1     1     other   at_home   \n",
      "\n",
      "     ... famrel freetime  goout  Dalc  Walc health absences  G1  G2  G3  \n",
      "0    ...      4        3      4     1     1      3        6   5   6   6  \n",
      "1    ...      5        3      3     1     1      3        4   5   5   6  \n",
      "2    ...      4        3      2     2     3      3       10   7   8  10  \n",
      "3    ...      3        2      2     1     1      5        2  15  14  15  \n",
      "4    ...      4        3      2     1     2      5        4   6  10  10  \n",
      "..   ...    ...      ...    ...   ...   ...    ...      ...  ..  ..  ..  \n",
      "390  ...      5        5      4     4     5      4       11   9   9   9  \n",
      "391  ...      2        4      5     3     4      2        3  14  16  16  \n",
      "392  ...      5        5      3     3     3      3        3  10   8   7  \n",
      "393  ...      4        4      1     3     4      5        0  11  12  10  \n",
      "394  ...      3        2      3     3     3      5        5   8   9   9  \n",
      "\n",
      "[395 rows x 33 columns]\n"
     ]
    }
   ],
   "source": [
    "print(file)"
   ]
  },
  {
   "cell_type": "markdown",
   "id": "7dd6f204",
   "metadata": {},
   "source": [
    "# Python code to answer question 1) What is the minimum, maximum, average, and median final grade (G3 column)?"
   ]
  },
  {
   "cell_type": "code",
   "execution_count": 14,
   "id": "b4814463",
   "metadata": {},
   "outputs": [
    {
     "name": "stdout",
     "output_type": "stream",
     "text": [
      "Min Grade:  0\n",
      "Max Grade:  20\n",
      "Average Grade:  10.42\n",
      "Median Grade:  11.0\n"
     ]
    }
   ],
   "source": [
    "min_grade = file['G3'].min()\n",
    "max_grade = file['G3'].max()\n",
    "avg_grade = file['G3'].mean()\n",
    "median_grade = file['G3'].median()\n",
    "\n",
    "print(\"Min Grade: \", min_grade)\n",
    "print(\"Max Grade: \", max_grade)\n",
    "print(\"Average Grade: \", round(avg_grade, 2))\n",
    "print(\"Median Grade: \", median_grade)"
   ]
  },
  {
   "cell_type": "markdown",
   "id": "4208ba32",
   "metadata": {},
   "source": [
    "# Text answer for question 1."
   ]
  },
  {
   "cell_type": "markdown",
   "id": "82e22871",
   "metadata": {},
   "source": [
    "Minimum Grade:  0\n",
    "Maximum Grade:  20\n",
    "Average Grade:  10.42\n",
    "Median Grade:  11.0"
   ]
  },
  {
   "cell_type": "markdown",
   "id": "f7c61c23",
   "metadata": {},
   "source": [
    "# Python code to answer question 2) Which subgroup of sex, male or female, had the highest average final grade (G3)?"
   ]
  },
  {
   "cell_type": "markdown",
   "source": [],
   "metadata": {
    "collapsed": false
   }
  },
  {
   "cell_type": "code",
   "execution_count": 15,
   "id": "d06212a1",
   "metadata": {},
   "outputs": [
    {
     "name": "stdout",
     "output_type": "stream",
     "text": [
      "Subgroup with highest average grade is:  M\n"
     ]
    }
   ],
   "source": [
    "sex_group = file.groupby('sex')\n",
    "avg_grade_b_sex = sex_group['G3'].mean()\n",
    "highest_avg_sex = avg_grade_b_sex.idxmax()\n",
    "\n",
    "print(\"Subgroup with highest average grade is: \", highest_avg_sex)"
   ]
  },
  {
   "cell_type": "markdown",
   "id": "694c9f29",
   "metadata": {},
   "source": [
    "# Text answer for question 2.  "
   ]
  },
  {
   "cell_type": "markdown",
   "id": "39b7ecca",
   "metadata": {},
   "source": [
    "SubGroup with the highest average final grade is: Male"
   ]
  },
  {
   "cell_type": "markdown",
   "id": "e6f360bb",
   "metadata": {},
   "source": [
    "# Python code to answer question 3) Which subgroup of Fjob had the lowest average final grade?"
   ]
  },
  {
   "cell_type": "code",
   "execution_count": 16,
   "id": "518894ca",
   "metadata": {},
   "outputs": [
    {
     "name": "stdout",
     "output_type": "stream",
     "text": [
      "Subgroup with lowest average grade:  at_home\n"
     ]
    }
   ],
   "source": [
    "fjob_group = file.groupby('Fjob')\n",
    "avg_grade_fjob = fjob_group['G3'].mean()\n",
    "low_avg_fjob = avg_grade_fjob.idxmin()\n",
    "\n",
    "print(\"Subgroup with lowest average grade: \", low_avg_fjob)"
   ]
  },
  {
   "cell_type": "markdown",
   "id": "81584745",
   "metadata": {},
   "source": [
    "# Text answer for question 3."
   ]
  },
  {
   "cell_type": "markdown",
   "id": "907a278a",
   "metadata": {},
   "source": [
    "Subgroup with the lowest average final grade is: At Home"
   ]
  },
  {
   "cell_type": "markdown",
   "id": "2c6e2867",
   "metadata": {},
   "source": [
    "# Python code to answer question 4) On average, did students in romantic relationships get higher or lower final grades?"
   ]
  },
  {
   "cell_type": "code",
   "execution_count": 20,
   "id": "dbdda23b",
   "metadata": {},
   "outputs": [],
   "source": [
    "#python code..."
   ]
  },
  {
   "cell_type": "markdown",
   "id": "5b229575",
   "metadata": {},
   "source": [
    "# Text answer for question 4."
   ]
  },
  {
   "cell_type": "markdown",
   "id": "f7fa543a",
   "metadata": {},
   "source": [
    "text..."
   ]
  },
  {
   "cell_type": "markdown",
   "id": "6a27f637",
   "metadata": {},
   "source": [
    "# Python code to answer question 5) On average, do people with internet access at home make higher or lower final grades than people without internet? "
   ]
  },
  {
   "cell_type": "code",
   "execution_count": 21,
   "id": "13b97032",
   "metadata": {},
   "outputs": [],
   "source": [
    "#python code..."
   ]
  },
  {
   "cell_type": "markdown",
   "id": "9b2e1f51",
   "metadata": {},
   "source": [
    "# Text answer for question 5."
   ]
  },
  {
   "cell_type": "markdown",
   "id": "170104f9",
   "metadata": {},
   "source": [
    "text..."
   ]
  },
  {
   "cell_type": "markdown",
   "id": "62edcfc3",
   "metadata": {},
   "source": [
    "# Python code to answer question 6) What percentage of male students are in romantic relationships?  What percentage of female students are in romantic relationships?"
   ]
  },
  {
   "cell_type": "code",
   "execution_count": 22,
   "id": "22fe5f9e",
   "metadata": {},
   "outputs": [],
   "source": [
    "#python code..."
   ]
  },
  {
   "cell_type": "markdown",
   "id": "9f65c8eb",
   "metadata": {},
   "source": [
    "# Text answer for question 6."
   ]
  },
  {
   "cell_type": "markdown",
   "id": "e72d6a52",
   "metadata": {},
   "source": [
    "text..."
   ]
  },
  {
   "cell_type": "markdown",
   "id": "c0d8fdbf",
   "metadata": {},
   "source": [
    "# Python code to answer question 7) What is the correlation between freetime and final grade? "
   ]
  },
  {
   "cell_type": "code",
   "execution_count": 23,
   "id": "2f94cedd",
   "metadata": {},
   "outputs": [],
   "source": [
    "#python code..."
   ]
  },
  {
   "cell_type": "markdown",
   "id": "c1a2c0a7",
   "metadata": {},
   "source": [
    "# Text answer for question 7."
   ]
  },
  {
   "cell_type": "markdown",
   "id": "f28bb7ba",
   "metadata": {},
   "source": [
    "text..."
   ]
  },
  {
   "cell_type": "markdown",
   "id": "f4aa961e",
   "metadata": {},
   "source": [
    "# Python code to answer question 8) What is the correlation between studytime and final grade? "
   ]
  },
  {
   "cell_type": "code",
   "execution_count": 24,
   "id": "fd4ee11d",
   "metadata": {},
   "outputs": [],
   "source": [
    "#python code..."
   ]
  },
  {
   "cell_type": "markdown",
   "id": "ef602b6a",
   "metadata": {},
   "source": [
    "# Text answer for question 8."
   ]
  },
  {
   "cell_type": "markdown",
   "id": "8939ae06",
   "metadata": {},
   "source": [
    "text..."
   ]
  },
  {
   "cell_type": "markdown",
   "id": "e0ca73e2",
   "metadata": {},
   "source": [
    "# Python code to answer question 9) What is the correlation between studytime and freetime? "
   ]
  },
  {
   "cell_type": "code",
   "execution_count": 25,
   "id": "7358c900",
   "metadata": {},
   "outputs": [],
   "source": [
    "#python code..."
   ]
  },
  {
   "cell_type": "markdown",
   "id": "cbcc4315",
   "metadata": {},
   "source": [
    "# Text answer for question 9."
   ]
  },
  {
   "cell_type": "markdown",
   "id": "655d09b5",
   "metadata": {},
   "source": [
    "text..."
   ]
  },
  {
   "cell_type": "markdown",
   "id": "b34487c5",
   "metadata": {},
   "source": [
    "# Python code to answer question 10) Excluding columns G1 and G2, which numerical column had the biggest correlation with final grade (G3)?"
   ]
  },
  {
   "cell_type": "code",
   "execution_count": 26,
   "id": "eca746e9",
   "metadata": {},
   "outputs": [],
   "source": [
    "#python code..."
   ]
  },
  {
   "cell_type": "markdown",
   "id": "a8ad8027",
   "metadata": {},
   "source": [
    "# Text answer for question 10.  Please identify the column and correlation."
   ]
  },
  {
   "cell_type": "markdown",
   "id": "a9974444",
   "metadata": {},
   "source": [
    "text..."
   ]
  }
 ],
 "metadata": {
  "kernelspec": {
   "display_name": "Python 3 (ipykernel)",
   "language": "python",
   "name": "python3"
  },
  "language_info": {
   "codemirror_mode": {
    "name": "ipython",
    "version": 3
   },
   "file_extension": ".py",
   "mimetype": "text/x-python",
   "name": "python",
   "nbconvert_exporter": "python",
   "pygments_lexer": "ipython3",
   "version": "3.9.7"
  }
 },
 "nbformat": 4,
 "nbformat_minor": 5
}
