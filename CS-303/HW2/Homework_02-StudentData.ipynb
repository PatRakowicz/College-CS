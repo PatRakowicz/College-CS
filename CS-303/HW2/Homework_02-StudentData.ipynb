{
 "cells": [
  {
   "cell_type": "markdown",
   "id": "da8e8ddf",
   "metadata": {},
   "source": [
    "# import statements"
   ]
  },
  {
   "cell_type": "code",
   "execution_count": 14,
   "id": "e0dda12c",
   "metadata": {},
   "outputs": [],
   "source": [
    "import numpy as np\n",
    "import pandas as pand"
   ]
  },
  {
   "cell_type": "markdown",
   "id": "a387acc1",
   "metadata": {},
   "source": [
    "# code to read student.csv into pandas dataframe "
   ]
  },
  {
   "cell_type": "code",
   "execution_count": 15,
   "id": "d7907a5f",
   "metadata": {},
   "outputs": [],
   "source": [
    "#python code..."
   ]
  },
  {
   "cell_type": "markdown",
   "id": "9763d0ec",
   "metadata": {},
   "source": [
    "# helper functions (if needed)"
   ]
  },
  {
   "cell_type": "code",
   "execution_count": 16,
   "id": "449bea30",
   "metadata": {},
   "outputs": [],
   "source": [
    "#python code..."
   ]
  },
  {
   "cell_type": "markdown",
   "id": "7dd6f204",
   "metadata": {},
   "source": [
    "# Python code to answer question 1) What is the minimum, maximum, average, and median final grade (G3 column)?"
   ]
  },
  {
   "cell_type": "code",
   "execution_count": 17,
   "id": "b4814463",
   "metadata": {},
   "outputs": [],
   "source": [
    "#python code..."
   ]
  },
  {
   "cell_type": "markdown",
   "id": "4208ba32",
   "metadata": {},
   "source": [
    "# Text answer for question 1."
   ]
  },
  {
   "cell_type": "markdown",
   "id": "82e22871",
   "metadata": {},
   "source": [
    "text..."
   ]
  },
  {
   "cell_type": "markdown",
   "id": "f7c61c23",
   "metadata": {},
   "source": [
    "# Python code to answer question 2) Which subgroup of sex, male or female, had the highest average final grade (G3)?"
   ]
  },
  {
   "cell_type": "code",
   "execution_count": 18,
   "id": "d06212a1",
   "metadata": {},
   "outputs": [],
   "source": [
    "#python code..."
   ]
  },
  {
   "cell_type": "markdown",
   "id": "694c9f29",
   "metadata": {},
   "source": [
    "# Text answer for question 2.  "
   ]
  },
  {
   "cell_type": "markdown",
   "id": "39b7ecca",
   "metadata": {},
   "source": [
    "text..."
   ]
  },
  {
   "cell_type": "markdown",
   "id": "e6f360bb",
   "metadata": {},
   "source": [
    "# Python code to answer question 3) Which subgroup of Fjob had the lowest average final grade?"
   ]
  },
  {
   "cell_type": "code",
   "execution_count": 19,
   "id": "518894ca",
   "metadata": {},
   "outputs": [],
   "source": [
    "#python code..."
   ]
  },
  {
   "cell_type": "markdown",
   "id": "81584745",
   "metadata": {},
   "source": [
    "# Text answer for question 3."
   ]
  },
  {
   "cell_type": "markdown",
   "id": "907a278a",
   "metadata": {},
   "source": [
    "text..."
   ]
  },
  {
   "cell_type": "markdown",
   "id": "2c6e2867",
   "metadata": {},
   "source": [
    "# Python code to answer question 4) On average, did students in romantic relationships get higher or lower final grades?"
   ]
  },
  {
   "cell_type": "code",
   "execution_count": 20,
   "id": "dbdda23b",
   "metadata": {},
   "outputs": [],
   "source": [
    "#python code..."
   ]
  },
  {
   "cell_type": "markdown",
   "id": "5b229575",
   "metadata": {},
   "source": [
    "# Text answer for question 4."
   ]
  },
  {
   "cell_type": "markdown",
   "id": "f7fa543a",
   "metadata": {},
   "source": [
    "text..."
   ]
  },
  {
   "cell_type": "markdown",
   "id": "6a27f637",
   "metadata": {},
   "source": [
    "# Python code to answer question 5) On average, do people with internet access at home make higher or lower final grades than people without internet? "
   ]
  },
  {
   "cell_type": "code",
   "execution_count": 21,
   "id": "13b97032",
   "metadata": {},
   "outputs": [],
   "source": [
    "#python code..."
   ]
  },
  {
   "cell_type": "markdown",
   "id": "9b2e1f51",
   "metadata": {},
   "source": [
    "# Text answer for question 5."
   ]
  },
  {
   "cell_type": "markdown",
   "id": "170104f9",
   "metadata": {},
   "source": [
    "text..."
   ]
  },
  {
   "cell_type": "markdown",
   "id": "62edcfc3",
   "metadata": {},
   "source": [
    "# Python code to answer question 6) What percentage of male students are in romantic relationships?  What percentage of female students are in romantic relationships?"
   ]
  },
  {
   "cell_type": "code",
   "execution_count": 22,
   "id": "22fe5f9e",
   "metadata": {},
   "outputs": [],
   "source": [
    "#python code..."
   ]
  },
  {
   "cell_type": "markdown",
   "id": "9f65c8eb",
   "metadata": {},
   "source": [
    "# Text answer for question 6."
   ]
  },
  {
   "cell_type": "markdown",
   "id": "e72d6a52",
   "metadata": {},
   "source": [
    "text..."
   ]
  },
  {
   "cell_type": "markdown",
   "id": "c0d8fdbf",
   "metadata": {},
   "source": [
    "# Python code to answer question 7) What is the correlation between freetime and final grade? "
   ]
  },
  {
   "cell_type": "code",
   "execution_count": 23,
   "id": "2f94cedd",
   "metadata": {},
   "outputs": [],
   "source": [
    "#python code..."
   ]
  },
  {
   "cell_type": "markdown",
   "id": "c1a2c0a7",
   "metadata": {},
   "source": [
    "# Text answer for question 7."
   ]
  },
  {
   "cell_type": "markdown",
   "id": "f28bb7ba",
   "metadata": {},
   "source": [
    "text..."
   ]
  },
  {
   "cell_type": "markdown",
   "id": "f4aa961e",
   "metadata": {},
   "source": [
    "# Python code to answer question 8) What is the correlation between studytime and final grade? "
   ]
  },
  {
   "cell_type": "code",
   "execution_count": 24,
   "id": "fd4ee11d",
   "metadata": {},
   "outputs": [],
   "source": [
    "#python code..."
   ]
  },
  {
   "cell_type": "markdown",
   "id": "ef602b6a",
   "metadata": {},
   "source": [
    "# Text answer for question 8."
   ]
  },
  {
   "cell_type": "markdown",
   "id": "8939ae06",
   "metadata": {},
   "source": [
    "text..."
   ]
  },
  {
   "cell_type": "markdown",
   "id": "e0ca73e2",
   "metadata": {},
   "source": [
    "# Python code to answer question 9) What is the correlation between studytime and freetime? "
   ]
  },
  {
   "cell_type": "code",
   "execution_count": 25,
   "id": "7358c900",
   "metadata": {},
   "outputs": [],
   "source": [
    "#python code..."
   ]
  },
  {
   "cell_type": "markdown",
   "id": "cbcc4315",
   "metadata": {},
   "source": [
    "# Text answer for question 9."
   ]
  },
  {
   "cell_type": "markdown",
   "id": "655d09b5",
   "metadata": {},
   "source": [
    "text..."
   ]
  },
  {
   "cell_type": "markdown",
   "id": "b34487c5",
   "metadata": {},
   "source": [
    "# Python code to answer question 10) Excluding columns G1 and G2, which numerical column had the biggest correlation with final grade (G3)?"
   ]
  },
  {
   "cell_type": "code",
   "execution_count": 26,
   "id": "eca746e9",
   "metadata": {},
   "outputs": [],
   "source": [
    "#python code..."
   ]
  },
  {
   "cell_type": "markdown",
   "id": "a8ad8027",
   "metadata": {},
   "source": [
    "# Text answer for question 10.  Please identify the column and correlation."
   ]
  },
  {
   "cell_type": "markdown",
   "id": "a9974444",
   "metadata": {},
   "source": [
    "text..."
   ]
  }
 ],
 "metadata": {
  "kernelspec": {
   "display_name": "Python 3 (ipykernel)",
   "language": "python",
   "name": "python3"
  },
  "language_info": {
   "codemirror_mode": {
    "name": "ipython",
    "version": 3
   },
   "file_extension": ".py",
   "mimetype": "text/x-python",
   "name": "python",
   "nbconvert_exporter": "python",
   "pygments_lexer": "ipython3",
   "version": "3.9.7"
  }
 },
 "nbformat": 4,
 "nbformat_minor": 5
}
