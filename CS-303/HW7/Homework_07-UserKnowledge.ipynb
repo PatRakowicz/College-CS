{
 "cells": [
  {
   "cell_type": "markdown",
   "id": "71061d9f",
   "metadata": {},
   "source": [
    "# import python modules"
   ]
  },
  {
   "cell_type": "code",
   "execution_count": 13,
   "id": "ab5aa4ec",
   "metadata": {},
   "outputs": [],
   "source": [
    "#python code..."
   ]
  },
  {
   "cell_type": "markdown",
   "id": "ba6d6a52",
   "metadata": {},
   "source": [
    "# helper functions (if necessary)"
   ]
  },
  {
   "cell_type": "code",
   "execution_count": 14,
   "id": "b05adb3e",
   "metadata": {},
   "outputs": [],
   "source": [
    "#python code..."
   ]
  },
  {
   "cell_type": "markdown",
   "id": "8f1d18fe",
   "metadata": {},
   "source": [
    "# read in training data "
   ]
  },
  {
   "cell_type": "code",
   "execution_count": 15,
   "id": "87901746",
   "metadata": {},
   "outputs": [],
   "source": [
    "#python code..."
   ]
  },
  {
   "cell_type": "markdown",
   "id": "c4d4d657",
   "metadata": {},
   "source": [
    "# visualize data"
   ]
  },
  {
   "cell_type": "code",
   "execution_count": 16,
   "id": "6c1c9010",
   "metadata": {},
   "outputs": [],
   "source": [
    "#python code..."
   ]
  },
  {
   "cell_type": "markdown",
   "id": "1dd21830",
   "metadata": {},
   "source": [
    "# experiment with building classification models"
   ]
  },
  {
   "cell_type": "code",
   "execution_count": 17,
   "id": "411e7c68",
   "metadata": {},
   "outputs": [],
   "source": [
    "#python code..."
   ]
  },
  {
   "cell_type": "markdown",
   "id": "3d3cf7fa",
   "metadata": {},
   "source": [
    "# visualize experimental results (accuracy, precision, recall)"
   ]
  },
  {
   "cell_type": "code",
   "execution_count": 18,
   "id": "c2d28213",
   "metadata": {},
   "outputs": [],
   "source": [
    "#python code..."
   ]
  },
  {
   "cell_type": "markdown",
   "id": "14ce9d1d",
   "metadata": {},
   "source": [
    "# Question: What features and classifier parameters work \"best\"?"
   ]
  },
  {
   "cell_type": "markdown",
   "id": "51ecd39a",
   "metadata": {},
   "source": [
    "answer goes here.."
   ]
  },
  {
   "cell_type": "markdown",
   "id": "bb231f48",
   "metadata": {},
   "source": [
    "# create \"best\" classification model on training data"
   ]
  },
  {
   "cell_type": "code",
   "execution_count": 19,
   "id": "c6f03a8f",
   "metadata": {},
   "outputs": [],
   "source": [
    "#python code..."
   ]
  },
  {
   "cell_type": "markdown",
   "id": "c0ee271a",
   "metadata": {},
   "source": [
    "# read in test data"
   ]
  },
  {
   "cell_type": "code",
   "execution_count": 20,
   "id": "f38aa896",
   "metadata": {},
   "outputs": [],
   "source": [
    "#python code..."
   ]
  },
  {
   "cell_type": "markdown",
   "id": "a65666c0",
   "metadata": {},
   "source": [
    "# use model to make predictions of test data "
   ]
  },
  {
   "cell_type": "code",
   "execution_count": 21,
   "id": "4c740ad0",
   "metadata": {},
   "outputs": [],
   "source": [
    "#python code..."
   ]
  },
  {
   "cell_type": "markdown",
   "id": "891def58",
   "metadata": {},
   "source": [
    "# visualize test data with predicted labels"
   ]
  },
  {
   "cell_type": "code",
   "execution_count": 22,
   "id": "da685a45",
   "metadata": {},
   "outputs": [],
   "source": [
    "#python code..."
   ]
  },
  {
   "cell_type": "markdown",
   "id": "2371ef6c",
   "metadata": {},
   "source": [
    "# write test data and predictions to \\<YourLastName>.tsv"
   ]
  },
  {
   "cell_type": "code",
   "execution_count": 23,
   "id": "3bc5d501",
   "metadata": {},
   "outputs": [],
   "source": [
    "#python code..."
   ]
  }
 ],
 "metadata": {
  "kernelspec": {
   "display_name": "Python 3 (ipykernel)",
   "language": "python",
   "name": "python3"
  },
  "language_info": {
   "codemirror_mode": {
    "name": "ipython",
    "version": 3
   },
   "file_extension": ".py",
   "mimetype": "text/x-python",
   "name": "python",
   "nbconvert_exporter": "python",
   "pygments_lexer": "ipython3",
   "version": "3.9.0"
  }
 },
 "nbformat": 4,
 "nbformat_minor": 5
}
