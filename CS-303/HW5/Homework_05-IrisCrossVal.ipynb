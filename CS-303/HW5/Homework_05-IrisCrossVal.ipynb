{
 "cells": [
  {
   "cell_type": "markdown",
   "id": "a0203efa",
   "metadata": {},
   "source": [
    "# import modules"
   ]
  },
  {
   "cell_type": "code",
   "execution_count": 270,
   "id": "d7a82789",
   "metadata": {},
   "outputs": [],
   "source": []
  },
  {
   "cell_type": "markdown",
   "id": "c7c699ea",
   "metadata": {},
   "source": [
    "# screenshot of KNIME workflow"
   ]
  },
  {
   "cell_type": "markdown",
   "id": "dbd26175",
   "metadata": {},
   "source": [
    "<img src=\"name of image file goes here\">"
   ]
  },
  {
   "cell_type": "markdown",
   "id": "e76c8760",
   "metadata": {},
   "source": [
    "# helper function(s)"
   ]
  },
  {
   "cell_type": "code",
   "execution_count": 271,
   "id": "887ecc0c",
   "metadata": {},
   "outputs": [],
   "source": []
  },
  {
   "cell_type": "markdown",
   "id": "f4bb844e",
   "metadata": {},
   "source": [
    "# read iris data into Pandas data frame"
   ]
  },
  {
   "cell_type": "code",
   "execution_count": null,
   "id": "baf6394c",
   "metadata": {},
   "outputs": [],
   "source": []
  },
  {
   "cell_type": "markdown",
   "id": "d907b9f8",
   "metadata": {},
   "source": [
    "# plot data to investigate pattern(s)"
   ]
  },
  {
   "cell_type": "code",
   "execution_count": null,
   "id": "954892ec",
   "metadata": {},
   "outputs": [],
   "source": []
  },
  {
   "cell_type": "markdown",
   "id": "ad706da6",
   "metadata": {},
   "source": [
    "# split data into feature matrix (X) and target labels (y)"
   ]
  },
  {
   "cell_type": "code",
   "execution_count": null,
   "id": "9b922433",
   "metadata": {},
   "outputs": [],
   "source": []
  },
  {
   "cell_type": "markdown",
   "id": "70734ffd",
   "metadata": {},
   "source": [
    "# create decision tree classifier"
   ]
  },
  {
   "cell_type": "code",
   "execution_count": null,
   "id": "17523c2f",
   "metadata": {},
   "outputs": [],
   "source": []
  },
  {
   "cell_type": "markdown",
   "id": "7aab67ab",
   "metadata": {},
   "source": [
    "# use K-fold cross validation to test classifier"
   ]
  },
  {
   "cell_type": "code",
   "execution_count": null,
   "id": "f6584132",
   "metadata": {},
   "outputs": [],
   "source": []
  },
  {
   "cell_type": "markdown",
   "id": "ca4a5310",
   "metadata": {},
   "source": [
    "# print results: accuracy, precision, and recall "
   ]
  },
  {
   "cell_type": "code",
   "execution_count": null,
   "id": "fdba4c77",
   "metadata": {},
   "outputs": [],
   "source": []
  }
 ],
 "metadata": {
  "kernelspec": {
   "display_name": "Python 3 (ipykernel)",
   "language": "python",
   "name": "python3"
  },
  "language_info": {
   "codemirror_mode": {
    "name": "ipython",
    "version": 3
   },
   "file_extension": ".py",
   "mimetype": "text/x-python",
   "name": "python",
   "nbconvert_exporter": "python",
   "pygments_lexer": "ipython3",
   "version": "3.9.0"
  }
 },
 "nbformat": 4,
 "nbformat_minor": 5
}
