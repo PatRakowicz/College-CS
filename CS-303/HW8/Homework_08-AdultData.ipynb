{
 "cells": [
  {
   "cell_type": "markdown",
   "id": "f1a5e009",
   "metadata": {},
   "source": [
    "# import modules"
   ]
  },
  {
   "cell_type": "code",
   "execution_count": 9,
   "id": "3c31e3c3",
   "metadata": {},
   "outputs": [],
   "source": [
    "import pandas as pd\n",
    "import numpy as np\n",
    "from sklearn.model_selection import train_test_split\n",
    "from sklearn.preprocessing import LabelEncoder\n",
    "from sklearn.naive_bayes import GaussianNB"
   ]
  },
  {
   "cell_type": "markdown",
   "id": "3fdd847e",
   "metadata": {},
   "source": [
    "# helper functions (if needed)"
   ]
  },
  {
   "cell_type": "code",
   "execution_count": 10,
   "id": "0261b926",
   "metadata": {},
   "outputs": [],
   "source": [
    "# python code..."
   ]
  },
  {
   "cell_type": "markdown",
   "id": "42c884d1",
   "metadata": {},
   "source": [
    "# read training data into data frame"
   ]
  },
  {
   "cell_type": "code",
   "execution_count": 11,
   "id": "4240c68b",
   "metadata": {},
   "outputs": [
    {
     "name": "stdout",
     "output_type": "stream",
     "text": [
      "       age         workclass     education  education-num      marital-status  \\\n",
      "0       39         State-gov     Bachelors             13       Never-married   \n",
      "1       50  Self-emp-not-inc     Bachelors             13  Married-civ-spouse   \n",
      "2       38           Private       HS-grad              9            Divorced   \n",
      "3       53           Private          11th              7  Married-civ-spouse   \n",
      "4       37           Private       Masters             14  Married-civ-spouse   \n",
      "...    ...               ...           ...            ...                 ...   \n",
      "26044   43           Private     Assoc-voc             11  Married-civ-spouse   \n",
      "26045   32           Private       Masters             14       Never-married   \n",
      "26046   53           Private       Masters             14  Married-civ-spouse   \n",
      "26047   22           Private  Some-college             10       Never-married   \n",
      "26048   40           Private       HS-grad              9  Married-civ-spouse   \n",
      "\n",
      "              occupation   relationship                race     sex  \\\n",
      "0           Adm-clerical  Not-in-family               White    Male   \n",
      "1        Exec-managerial        Husband               White    Male   \n",
      "2      Handlers-cleaners  Not-in-family               White    Male   \n",
      "3      Handlers-cleaners        Husband               Black    Male   \n",
      "4        Exec-managerial           Wife               White  Female   \n",
      "...                  ...            ...                 ...     ...   \n",
      "26044              Sales        Husband               White    Male   \n",
      "26045       Tech-support  Not-in-family  Asian-Pac-Islander    Male   \n",
      "26046    Exec-managerial        Husband               White    Male   \n",
      "26047    Protective-serv  Not-in-family               White    Male   \n",
      "26048  Machine-op-inspct        Husband               White    Male   \n",
      "\n",
      "       hours-per-week native-country income  \n",
      "0                  40  United-States  <=50K  \n",
      "1                  13  United-States  <=50K  \n",
      "2                  40  United-States  <=50K  \n",
      "3                  40  United-States  <=50K  \n",
      "4                  40  United-States  <=50K  \n",
      "...               ...            ...    ...  \n",
      "26044              45  United-States  <=50K  \n",
      "26045              11         Taiwan  <=50K  \n",
      "26046              40  United-States   >50K  \n",
      "26047              40  United-States  <=50K  \n",
      "26048              40  United-States   >50K  \n",
      "\n",
      "[26049 rows x 12 columns]\n"
     ]
    }
   ],
   "source": [
    "train_data = pd.read_csv('train.csv')\n",
    "print(train_data)"
   ]
  },
  {
   "cell_type": "markdown",
   "id": "4915e6da",
   "metadata": {},
   "source": [
    "# analyze and visualize data to find candidate features"
   ]
  },
  {
   "cell_type": "code",
   "execution_count": 12,
   "id": "2acf3578",
   "metadata": {},
   "outputs": [
    {
     "data": {
      "text/plain": "<AxesSubplot: xlabel='education'>"
     },
     "execution_count": 12,
     "metadata": {},
     "output_type": "execute_result"
    },
    {
     "data": {
      "text/plain": "<Figure size 640x480 with 1 Axes>",
      "image/png": "[encoded data removed]"
     },
     "metadata": {},
     "output_type": "display_data"
    }
   ],
   "source": [
    "# Example visualization: Education level vs. percentage within income \">50K\"\n",
    "pd.crosstab(train_data['education'], train_data['income'], normalize='index')[\">50K\"].plot(kind='bar')\n"
   ]
  },
  {
   "cell_type": "markdown",
   "id": "d3bb038e",
   "metadata": {},
   "source": [
    "# split training data into features (X) and targets (y)"
   ]
  },
  {
   "cell_type": "code",
   "execution_count": 13,
   "id": "27c0eefd",
   "metadata": {},
   "outputs": [],
   "source": [
    "X = train_data.drop(['income'], axis=1)\n",
    "y = train_data['income']"
   ]
  },
  {
   "cell_type": "markdown",
   "id": "015e6b9b",
   "metadata": {},
   "source": [
    "# convert categorical data from strings to integers "
   ]
  },
  {
   "cell_type": "code",
   "execution_count": 14,
   "id": "5f303392",
   "metadata": {},
   "outputs": [],
   "source": [
    "for col in ['workclass', 'education', 'marital-status', 'occupation', 'relationship', 'race', 'sex', 'native-country']:\n",
    "    le = LabelEncoder()\n",
    "    X[col] = le.fit_transform(X[col].astype(str))"
   ]
  },
  {
   "cell_type": "markdown",
   "id": "f3999c5a",
   "metadata": {},
   "source": [
    "# experiment w/ classifying training data using various feature sets"
   ]
  },
  {
   "cell_type": "code",
   "execution_count": 15,
   "id": "2c2ce6f5",
   "metadata": {},
   "outputs": [
    {
     "data": {
      "text/plain": "0.7743483435064685"
     },
     "execution_count": 15,
     "metadata": {},
     "output_type": "execute_result"
    }
   ],
   "source": [
    "# Example: Using Gaussian Naive Bayes with all features\n",
    "gnb = GaussianNB()\n",
    "gnb.fit(X, y)\n",
    "gnb.score(X, y)"
   ]
  },
  {
   "cell_type": "markdown",
   "id": "c557c58c",
   "metadata": {},
   "source": [
    "# analyze and visualize experimental results"
   ]
  },
  {
   "cell_type": "code",
   "execution_count": 14,
   "id": "f53376fc",
   "metadata": {},
   "outputs": [],
   "source": []
  },
  {
   "cell_type": "markdown",
   "id": "3614c103",
   "metadata": {},
   "source": [
    "# Question: What features work \"best\"?  Why?"
   ]
  },
  {
   "cell_type": "markdown",
   "id": "952e3d19",
   "metadata": {},
   "source": [
    "answer goes here"
   ]
  },
  {
   "cell_type": "markdown",
   "id": "d6c93802",
   "metadata": {},
   "source": [
    "# create \"best\" classification model based on training data"
   ]
  },
  {
   "cell_type": "code",
   "execution_count": 8,
   "id": "2767b308",
   "metadata": {},
   "outputs": [],
   "source": [
    "# python code..."
   ]
  },
  {
   "cell_type": "markdown",
   "id": "31b54f59",
   "metadata": {},
   "source": [
    "# read in test data "
   ]
  },
  {
   "cell_type": "code",
   "execution_count": 9,
   "id": "670b2696",
   "metadata": {},
   "outputs": [],
   "source": [
    "# python code..."
   ]
  },
  {
   "cell_type": "markdown",
   "id": "eb9712c9",
   "metadata": {},
   "source": [
    "# use model to make predictions of test data"
   ]
  },
  {
   "cell_type": "code",
   "execution_count": 10,
   "id": "061911ff",
   "metadata": {},
   "outputs": [],
   "source": [
    "# python code..."
   ]
  },
  {
   "cell_type": "markdown",
   "id": "90ac888f",
   "metadata": {},
   "source": [
    "# write test data with predicted labels"
   ]
  },
  {
   "cell_type": "code",
   "execution_count": 11,
   "id": "f781ffd5",
   "metadata": {},
   "outputs": [],
   "source": [
    "# python code..."
   ]
  }
 ],
 "metadata": {
  "kernelspec": {
   "display_name": "Python 3 (ipykernel)",
   "language": "python",
   "name": "python3"
  },
  "language_info": {
   "codemirror_mode": {
    "name": "ipython",
    "version": 3
   },
   "file_extension": ".py",
   "mimetype": "text/x-python",
   "name": "python",
   "nbconvert_exporter": "python",
   "pygments_lexer": "ipython3",
   "version": "3.9.0"
  }
 },
 "nbformat": 4,
 "nbformat_minor": 5
}
