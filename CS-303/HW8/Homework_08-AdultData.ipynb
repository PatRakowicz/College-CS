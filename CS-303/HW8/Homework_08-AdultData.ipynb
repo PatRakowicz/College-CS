{
 "cells": [
  {
   "cell_type": "markdown",
   "id": "f1a5e009",
   "metadata": {},
   "source": [
    "# import modules"
   ]
  },
  {
   "cell_type": "code",
   "execution_count": 1,
   "id": "3c31e3c3",
   "metadata": {},
   "outputs": [],
   "source": [
    "# python code..."
   ]
  },
  {
   "cell_type": "markdown",
   "id": "3fdd847e",
   "metadata": {},
   "source": [
    "# helper functions (if needed)"
   ]
  },
  {
   "cell_type": "code",
   "execution_count": 2,
   "id": "0261b926",
   "metadata": {},
   "outputs": [],
   "source": [
    "# python code..."
   ]
  },
  {
   "cell_type": "markdown",
   "id": "42c884d1",
   "metadata": {},
   "source": [
    "# read training data into data frame"
   ]
  },
  {
   "cell_type": "code",
   "execution_count": 3,
   "id": "4240c68b",
   "metadata": {},
   "outputs": [],
   "source": [
    "# python code..."
   ]
  },
  {
   "cell_type": "markdown",
   "id": "4915e6da",
   "metadata": {},
   "source": [
    "# analyze and visualize data to find candidate features"
   ]
  },
  {
   "cell_type": "code",
   "execution_count": 4,
   "id": "2acf3578",
   "metadata": {},
   "outputs": [],
   "source": [
    "# python code..."
   ]
  },
  {
   "cell_type": "markdown",
   "id": "d3bb038e",
   "metadata": {},
   "source": [
    "# split training data into features (X) and targets (y)"
   ]
  },
  {
   "cell_type": "code",
   "execution_count": 5,
   "id": "27c0eefd",
   "metadata": {},
   "outputs": [],
   "source": [
    "# python code..."
   ]
  },
  {
   "cell_type": "markdown",
   "id": "015e6b9b",
   "metadata": {},
   "source": [
    "# convert categorical data from strings to integers "
   ]
  },
  {
   "cell_type": "code",
   "execution_count": 6,
   "id": "5f303392",
   "metadata": {},
   "outputs": [],
   "source": [
    "# python code..."
   ]
  },
  {
   "cell_type": "markdown",
   "id": "f3999c5a",
   "metadata": {},
   "source": [
    "# experiment w/ classifying training data using various feature sets"
   ]
  },
  {
   "cell_type": "code",
   "execution_count": 7,
   "id": "2c2ce6f5",
   "metadata": {},
   "outputs": [],
   "source": [
    "# python code..."
   ]
  },
  {
   "cell_type": "markdown",
   "id": "c557c58c",
   "metadata": {},
   "source": [
    "# analyze and visualize experimental results"
   ]
  },
  {
   "cell_type": "code",
   "execution_count": null,
   "id": "f53376fc",
   "metadata": {},
   "outputs": [],
   "source": []
  },
  {
   "cell_type": "markdown",
   "id": "3614c103",
   "metadata": {},
   "source": [
    "# Question: What features work \"best\"?  Why?"
   ]
  },
  {
   "cell_type": "markdown",
   "id": "952e3d19",
   "metadata": {},
   "source": [
    "answer goes here"
   ]
  },
  {
   "cell_type": "markdown",
   "id": "d6c93802",
   "metadata": {},
   "source": [
    "# create \"best\" classification model based on training data"
   ]
  },
  {
   "cell_type": "code",
   "execution_count": 8,
   "id": "2767b308",
   "metadata": {},
   "outputs": [],
   "source": [
    "# python code..."
   ]
  },
  {
   "cell_type": "markdown",
   "id": "31b54f59",
   "metadata": {},
   "source": [
    "# read in test data "
   ]
  },
  {
   "cell_type": "code",
   "execution_count": 9,
   "id": "670b2696",
   "metadata": {},
   "outputs": [],
   "source": [
    "# python code..."
   ]
  },
  {
   "cell_type": "markdown",
   "id": "eb9712c9",
   "metadata": {},
   "source": [
    "# use model to make predictions of test data"
   ]
  },
  {
   "cell_type": "code",
   "execution_count": 10,
   "id": "061911ff",
   "metadata": {},
   "outputs": [],
   "source": [
    "# python code..."
   ]
  },
  {
   "cell_type": "markdown",
   "id": "90ac888f",
   "metadata": {},
   "source": [
    "# write test data with predicted labels"
   ]
  },
  {
   "cell_type": "code",
   "execution_count": 11,
   "id": "f781ffd5",
   "metadata": {},
   "outputs": [],
   "source": [
    "# python code..."
   ]
  }
 ],
 "metadata": {
  "kernelspec": {
   "display_name": "Python 3 (ipykernel)",
   "language": "python",
   "name": "python3"
  },
  "language_info": {
   "codemirror_mode": {
    "name": "ipython",
    "version": 3
   },
   "file_extension": ".py",
   "mimetype": "text/x-python",
   "name": "python",
   "nbconvert_exporter": "python",
   "pygments_lexer": "ipython3",
   "version": "3.9.0"
  }
 },
 "nbformat": 4,
 "nbformat_minor": 5
}
