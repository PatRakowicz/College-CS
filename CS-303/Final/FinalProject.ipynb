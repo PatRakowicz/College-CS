{
 "cells": [
  {
   "cell_type": "markdown",
   "id": "2e23ffe0",
   "metadata": {},
   "source": [
    "# introductory text (explain: dataset, task)"
   ]
  },
  {
   "cell_type": "markdown",
   "id": "d5835360",
   "metadata": {},
   "source": [
    "Dataset: The Iris dataset represents 150 samples of iris flowers, with 50 samples for each of the three species: Iris-setosa, Iris-versicolor, and Iris-virginica. Each sample contains four features: sepal length, sepal width, petal length, and petal width, all measured in centimeters.\n",
    "\n",
    "Pattern recognition task: I am creating a supervised machine learning model to classify iris flowers into their respective species based on their sepal and petal measurements."
   ]
  },
  {
   "cell_type": "markdown",
   "id": "225ca8cd",
   "metadata": {},
   "source": [
    "# import requisite modules"
   ]
  },
  {
   "cell_type": "code",
   "execution_count": 6,
   "id": "d35075c1",
   "metadata": {},
   "outputs": [],
   "source": [
    "import pandas as pd\n",
    "import numpy as np\n",
    "import seaborn as sns\n",
    "import matplotlib.pyplot as plt\n",
    "from sklearn.model_selection import train_test_split, GridSearchCV\n",
    "from sklearn.preprocessing import StandardScaler\n",
    "from sklearn.pipeline import Pipeline\n",
    "from sklearn.svm import SVC\n",
    "from sklearn.metrics import classification_report, accuracy_score, precision_score, recall_score, f1_score"
   ]
  },
  {
   "cell_type": "markdown",
   "id": "061a0b77",
   "metadata": {},
   "source": [
    "# helper functions (if necessary)"
   ]
  },
  {
   "cell_type": "code",
   "execution_count": 7,
   "id": "5dc2c9fb",
   "metadata": {},
   "outputs": [],
   "source": [
    "# python code"
   ]
  },
  {
   "cell_type": "markdown",
   "id": "1a313564",
   "metadata": {},
   "source": [
    "# pre-process, analyze dataset"
   ]
  },
  {
   "cell_type": "code",
   "execution_count": 8,
   "id": "d7d94c47",
   "metadata": {},
   "outputs": [],
   "source": [
    "# Load the Iris dataset from a URL\n",
    "url = \"https://archive.ics.uci.edu/ml/machine-learning-databases/iris/iris.data\"\n",
    "column_names = [\"sepal_length\", \"sepal_width\", \"petal_length\", \"petal_width\", \"species\"]\n",
    "iris_df = pd.read_csv(url, names=column_names)\n",
    "\n",
    "# Checking for missing data\n",
    "print(\"Missing data:\\n\", iris_df.isnull().sum())\n",
    "\n",
    "# Basic statistics\n",
    "print(\"Basic statistics:\\n\", iris_df.describe())\n",
    "\n",
    "# Correlations\n",
    "print(\"Correlations:\\n\", iris_df.corr())"
   ]
  },
  {
   "cell_type": "markdown",
   "id": "a923e4e3",
   "metadata": {},
   "source": [
    "# visualize dataset"
   ]
  },
  {
   "cell_type": "code",
   "execution_count": 9,
   "id": "cdc0249a",
   "metadata": {},
   "outputs": [],
   "source": [
    "sns.pairplot(iris_df, hue=\"species\")\n",
    "plt.show()\n",
    "\n",
    "# Boxplots\n",
    "for feature in column_names[:-1]:\n",
    "    sns.boxplot(x=\"species\", y=feature, data=iris_df)\n",
    "    plt.show()\n",
    "\n",
    "# Histograms\n",
    "iris_df.hist(bins=20, figsize=(12, 8))\n",
    "plt.show()"
   ]
  },
  {
   "cell_type": "markdown",
   "id": "979997d1",
   "metadata": {},
   "source": [
    "# experiment with algorithms, feature sets, parameters, etc.,"
   ]
  },
  {
   "cell_type": "code",
   "execution_count": 10,
   "id": "d25763f9",
   "metadata": {},
   "outputs": [],
   "source": [
    "# python code"
   ]
  },
  {
   "cell_type": "markdown",
   "id": "93e40126",
   "metadata": {},
   "source": [
    "# visualize experimental results"
   ]
  },
  {
   "cell_type": "code",
   "execution_count": 11,
   "id": "c8420320",
   "metadata": {},
   "outputs": [],
   "source": [
    "# python code"
   ]
  },
  {
   "cell_type": "markdown",
   "id": "8c58684d",
   "metadata": {},
   "source": [
    "# analyze / explain experimental results"
   ]
  },
  {
   "cell_type": "markdown",
   "id": "b1571c95",
   "metadata": {},
   "source": [
    "what worked? what didn't? WHY? "
   ]
  },
  {
   "cell_type": "markdown",
   "id": "e1ed56ba",
   "metadata": {},
   "source": [
    "# conclusion "
   ]
  },
  {
   "cell_type": "markdown",
   "id": "847bbec2",
   "metadata": {},
   "source": [
    "..."
   ]
  }
 ],
 "metadata": {
  "kernelspec": {
   "display_name": "Python 3 (ipykernel)",
   "language": "python",
   "name": "python3"
  },
  "language_info": {
   "codemirror_mode": {
    "name": "ipython",
    "version": 3
   },
   "file_extension": ".py",
   "mimetype": "text/x-python",
   "name": "python",
   "nbconvert_exporter": "python",
   "pygments_lexer": "ipython3",
   "version": "3.9.0"
  }
 },
 "nbformat": 4,
 "nbformat_minor": 5
}
